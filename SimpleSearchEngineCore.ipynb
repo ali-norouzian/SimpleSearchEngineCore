{
  "cells": [
    {
      "cell_type": "code",
      "execution_count": null,
      "metadata": {
        "colab": {
          "base_uri": "https://localhost:8080/"
        },
        "id": "DBiLxHlF2dJq",
        "outputId": "facf0b1a-cf84-4053-cf0e-76ce2bb3cd3d"
      },
      "outputs": [
        {
          "name": "stdout",
          "output_type": "stream",
          "text": [
            "Requirement already satisfied: pandas in /usr/local/lib/python3.10/dist-packages (1.5.3)\n",
            "Requirement already satisfied: beautifulsoup4 in /usr/local/lib/python3.10/dist-packages (4.11.2)\n",
            "Requirement already satisfied: requests in /usr/local/lib/python3.10/dist-packages (2.27.1)\n",
            "Requirement already satisfied: python-dateutil>=2.8.1 in /usr/local/lib/python3.10/dist-packages (from pandas) (2.8.2)\n",
            "Requirement already satisfied: pytz>=2020.1 in /usr/local/lib/python3.10/dist-packages (from pandas) (2022.7.1)\n",
            "Requirement already satisfied: numpy>=1.21.0 in /usr/local/lib/python3.10/dist-packages (from pandas) (1.22.4)\n",
            "Requirement already satisfied: soupsieve>1.2 in /usr/local/lib/python3.10/dist-packages (from beautifulsoup4) (2.4.1)\n",
            "Requirement already satisfied: urllib3<1.27,>=1.21.1 in /usr/local/lib/python3.10/dist-packages (from requests) (1.26.16)\n",
            "Requirement already satisfied: certifi>=2017.4.17 in /usr/local/lib/python3.10/dist-packages (from requests) (2023.5.7)\n",
            "Requirement already satisfied: charset-normalizer~=2.0.0 in /usr/local/lib/python3.10/dist-packages (from requests) (2.0.12)\n",
            "Requirement already satisfied: idna<4,>=2.5 in /usr/local/lib/python3.10/dist-packages (from requests) (3.4)\n",
            "Requirement already satisfied: six>=1.5 in /usr/local/lib/python3.10/dist-packages (from python-dateutil>=2.8.1->pandas) (1.16.0)\n"
          ]
        }
      ],
      "source": [
        "!pip install pandas beautifulsoup4 requests"
      ]
    },
    {
      "cell_type": "code",
      "execution_count": null,
      "metadata": {
        "id": "IKfG2uH66HYr"
      },
      "outputs": [],
      "source": [
        "import os\n",
        "import csv\n",
        "import pandas as pd\n",
        "from bs4 import BeautifulSoup\n",
        "from requests import get\n"
      ]
    },
    {
      "cell_type": "code",
      "execution_count": null,
      "metadata": {
        "id": "7rrBo-CU6Bdu"
      },
      "outputs": [],
      "source": [
        "\n",
        "def save_html_contents(link, page_name):\n",
        "    '''\n",
        "    Send request to destination link and -\n",
        "    - save its content into file in local disk.\n",
        "    '''\n",
        "    resp = get(link)\n",
        "\n",
        "    with open(f'/content/drive/MyDrive/scrape/pages/page_{page_name}.html', 'w',\n",
        "              encoding='utf-8') as f:\n",
        "        f.write(str(resp.text))\n",
        "\n",
        "\n",
        "df = pd.read_csv('/content/drive/MyDrive/scrape/links.csv')\n",
        "for index, row in df.iterrows():\n",
        "  link = row['link']\n",
        "  name = row['name']\n",
        "  # File name can't have / char\n",
        "  if '/' in name:\n",
        "    name = name.split('/')[-1]\n",
        "    name = name.replace('.html','')\n",
        "  save_html_contents(link, name)"
      ]
    },
    {
      "cell_type": "code",
      "execution_count": null,
      "metadata": {
        "id": "0w0yaum26FYs"
      },
      "outputs": [],
      "source": [
        "# links['link'].head()"
      ]
    },
    {
      "attachments": {},
      "cell_type": "markdown",
      "metadata": {
        "id": "Bc-18JmJCMJh"
      },
      "source": [
        "# A Sample for test"
      ]
    },
    {
      "cell_type": "code",
      "execution_count": null,
      "metadata": {
        "colab": {
          "base_uri": "https://localhost:8080/"
        },
        "id": "HHhA8_bFAZB3",
        "outputId": "4ff4e243-8bbf-435b-f02e-1f2920d10818"
      },
      "outputs": [
        {
          "name": "stdout",
          "output_type": "stream",
          "text": [
            "In computer architecture, 16-bit integers, memory addresses, or other data units are those that are  16 bits (2 octets) wide.  Also, 16-bit central processing unit (CPU) and arithmetic logic unit (ALU) architectures are those that are based on registers, address buses, or data buses of that size. 16-bit microcomputers are microcomputers that use 16-bit microprocessors.\n",
            "\n",
            "A 16-bit register can store 216 different values. The range of integer values that can be stored in 16 bits depends on the integer representation used. With the two most common representations, the range is 0 through 65,535 (216 − 1) for representation as an (unsigned) binary number, and −32,768 (−1 × 215) through 32,767 (215 − 1) for representation as two's complement. Since 216 is 65,536, a processor with 16-bit memory addresses can directly access 64 KB (65,536 bytes) of byte-addressable memory. If a system uses segmentation with 16-bit segment offsets, more can be accessed.\n",
            "\n",
            "The MIT Whirlwind (c. 1951)[1][2] was quite possibly the first-ever 16-bit computer. It was an unusual word size for the era; most systems used six-bit character code and used a word length of some multiple of 6-bits. This changed with the effort to introduce ASCII, which used a 7-bit code and naturally led to the use of an 8-bit multiple which could store a single ASCII character or two binary coded decimal digits.\n",
            "\n",
            "The 16-bit word length thus became more common in the 1960s, especially on minicomputer systems. Early 16-bit computers (c. 1965–70) include the IBM 1130,[3] the HP 2100,[4] the Data General Nova,[5] and the DEC PDP-11.[6] Early 16-bit microprocessors, often modeled on one of the mini platforms, began to appear in the 1970s.  Examples (c. 1973–76) include the five-chip National Semiconductor IMP-16 (1973),[7] the two-chip NEC μCOM-16 (1974),[8][7] the three-chip Western Digital MCP-1600 (1975), and the five-chip Toshiba T-3412 (1976).[7]\n",
            "\n",
            "Early single-chip 16-bit microprocessors (c. 1975–76) include the Panafacom MN1610 (1975),[9][10][7] National Semiconductor PACE (1975), General Instrument CP1600 (1975), Texas Instruments TMS9900 (1976),[7] Ferranti F100-L, and the HP BPC. Other notable 16-bit processors include the Intel 8086, the Intel 80286, the WDC 65C816, and the Zilog Z8000. The Intel 8088 was binary compatible with the Intel 8086, and was 16-bit in that its registers were 16 bits wide, and arithmetic instructions could operate on 16-bit quantities, even though its external bus was 8 bits wide.\n",
            "\n",
            "16-bit processors have been almost entirely supplanted in the personal computer industry, and are used less than 32-bit (or 8-bit) CPUs in embedded applications.\n",
            "\n",
            "The Motorola 68000 is sometimes called 16-bit because of the way it handles basic arithmetic. The instruction set was based on 32-bit numbers and the internal registers were 32 bits wide, so by common definitions, the 68000 is a 32-bit design. Internally, 32-bit arithmetic is performed using two 16-bit operations, and this leads to some descriptions of the system as 16-bit, or \"16/32\".\n",
            "\n",
            "Such solutions have a long history in the computer field, with various designs performing math even 1-bit at a time, known as \"serial arithmetic\", while most designs by the 1970s processed at least a few bits at a time. A common example is the Data General Nova, which was a 16-bit design that performed 16-bit math as a series of four 4-bit operations. 4-bits was the word size of a widely available single-chip ALU and thus allowed for inexpensive implementation. Using the definition being applied to the 68000, the Nova would be a 4-bit computer, or 4/16. Not long after the introduction of the Nova a second version was introduced, the SuperNova, which included four of the 4-bit ALUs running in parallel to perform math 16 bits at a time and therefore offer higher performance. This was invisible to the user and the programs, which always used 16-bit instructions and data. In a similar fashion, later 68000-family members, like the Motorola 68020, had 32-bit ALUs.\n",
            "\n",
            "One may also see references to systems being, or not being, 16-bit based on some other measure. One common one is when the address space is not the same size of bits as the internal registers. Most 8-bit CPUs of the 1970s fall into this category; the MOS 6502, Intel 8080, Zilog Z80 and most others had 16-bit address space which provided 64 KB of address space. This also meant address manipulation required two instruction cycles. For this reason, most processors had special 8-bit addressing modes, the zero page, improving speed. This sort of difference between internal register size and external address size remained in the 1980s, although often reversed, as memory costs of the era made a machine with 32-bit addressing, 2 or 4 GB, a practical impossibility. For example, the 68000 exposed only 24 bits of addressing on the DIP, limiting it to a still huge (for the era) 16 MB.[11]\n",
            "\n",
            "A similar analysis applies to Intel's 80286 CPU replacement, called the 386SX, which is a 32-bit processor with 32-bit ALU and internal 32-bit data paths with a 16-bit external bus and 24-bit addressing of the processor it replaced.\n",
            "\n",
            "In the context of IBM PC compatible and Wintel platforms, a 16-bit application is any software written for MS-DOS, OS/2 1.x or early versions of Microsoft Windows which originally ran on the 16-bit Intel 8088 and Intel 80286 microprocessors. Such applications used a 20-bit or 24-bit segment or selector-offset address representation to extend the range of addressable memory locations beyond what was possible using only 16-bit addresses. Programs containing more than 216 bytes (65,536 bytes) of instructions and data therefore required special instructions to switch between their 64-kilobyte segments, increasing the complexity of programming 16-bit applications.\n",
            "\n"
          ]
        }
      ],
      "source": [
        "\n",
        "html = None\n",
        "with open(f'/content/drive/MyDrive/scrape/pages/page_16-bit computing - Wikipedia.html',\n",
        "          'r', encoding='utf-8') as f:\n",
        "    html = str(f.read())\n",
        "\n",
        "soup = BeautifulSoup(html, 'html.parser')\n",
        "\n",
        "paragraphs = soup.find_all('p')\n",
        "\n",
        "for p in paragraphs:\n",
        "    print(p.text)"
      ]
    },
    {
      "attachments": {},
      "cell_type": "markdown",
      "metadata": {
        "id": "VI_gecvUR-vt"
      },
      "source": [
        "# Scrape from wiki"
      ]
    },
    {
      "cell_type": "code",
      "execution_count": null,
      "metadata": {
        "colab": {
          "base_uri": "https://localhost:8080/"
        },
        "id": "pMB3uqMKAE02",
        "outputId": "4fa9a280-2ec9-42d8-9095-669411ac7241"
      },
      "outputs": [
        {
          "name": "stdout",
          "output_type": "stream",
          "text": [
            "__________ page_Public_health.html ||||| Public health\n",
            "__________ page_Sexual health clinic - Wikipedia.html ||||| Sexual health clinic\n",
            "__________ page_Smoking cessation - Wikipedia.html ||||| Smoking cessation\n",
            "__________ page_African Championship - Wikipedia.html ||||| African Championship\n",
            "__________ page_College Cup - Wikipedia.html ||||| College Cup\n",
            "__________ page_European Championship - Wikipedia.html ||||| European Championship\n",
            "__________ page_German Open - Wikipedia.html ||||| German Open\n",
            "__________ page_Formula One World Champion - Wikipedia.html ||||| Formula One World Champion\n",
            "__________ page_Defensive Player of the Year Award - Wikipedia.html ||||| Defensive Player of the Year Award\n",
            "__________ page_Cooking - Wikipedia.html ||||| Cooking\n",
            "__________ page_Freerice - Wikipedia.html ||||| Freerice\n",
            "__________ page_Geographical indication - Wikipedia.html ||||| Geographical indication\n",
            "__________ page_Jerk (cooking) - Wikipedia.html ||||| Jerk (cooking)\n",
            "__________ page_Veganism.html ||||| Veganism\n",
            "__________ page_Weight loss - Wikipedia.html ||||| Weight loss\n",
            "__________ page_Augmented octave - Wikipedia.html ||||| Augmented octave\n",
            "__________ page_Bayaty-Shiraz (mode) - Wikipedia.html ||||| Bayaty-Shiraz (mode)\n",
            "__________ page_Opera in English - Wikipedia.html ||||| Opera in English\n",
            "__________ page_Colotomy - Wikipedia.html ||||| Colotomy\n",
            "__________ page_Duet - Wikipedia.html ||||| Duet\n",
            "__________ page_Euouae - Wikipedia.html ||||| Euouae\n",
            "__________ page_Adaptive music - Wikipedia.html ||||| Adaptive music\n",
            "__________ page_Music_tourism.html ||||| Music tourism\n",
            "__________ page_Battle - Wikipedia.html ||||| Battle\n",
            "__________ page_Iranian_revolution.html ||||| Iranian Revolution\n",
            "__________ page_Achaemenid Empire - Wikipedia.html ||||| Achaemenid Empire\n",
            "__________ page_Chi-squared test - Wikipedia.html ||||| Chi-squared test\n",
            "__________ page_Deletion (genetics) - Wikipedia.html ||||| Deletion (genetics)\n",
            "__________ page_Microorganism - Wikipedia.html ||||| Microorganism\n",
            "__________ page_Phycology - Wikipedia.html ||||| Phycology\n",
            "__________ page_Plasmid - Wikipedia.html ||||| Plasmid\n",
            "__________ page_Repeated sequence (DNA) - Wikipedia.html ||||| Repeated sequence (DNA)\n",
            "__________ page_Trophic level - Wikipedia.html ||||| Trophic level\n",
            "__________ page_16-bit computing - Wikipedia.html ||||| 16-bit computing\n",
            "__________ page_HTTP 404 - Wikipedia.html ||||| HTTP 404\n",
            "__________ page_Computer accessibility - Wikipedia.html ||||| Computer accessibility\n",
            "__________ page_Ada (programming language) - Wikipedia.html ||||| Ada (programming language)\n",
            "__________ page_ASP.NET - Wikipedia.html ||||| ASP.NET\n",
            "__________ page_Software - Wikipedia.html ||||| Software\n",
            "__________ page_Computer security - Wikipedia.html ||||| Computer security\n",
            "__________ page_Recursion (computer science) - Wikipedia.html ||||| Recursion (computer science)\n",
            "__________ page_Computer programming - Wikipedia.html ||||| Computer programming\n",
            "__________ page_Random-access memory - Wikipedia.html ||||| Random-access memory\n",
            "__________ page_Computer science - Wikipedia.html ||||| Computer science\n",
            "__________ page_Transport Layer Security - Wikipedia.html ||||| Transport Layer Security\n",
            "__________ page_Windows Me - Wikipedia.html ||||| Windows Me\n",
            "__________ page_Web browser - Wikipedia.html ||||| Web browser\n",
            "__________ page_Service-oriented architecture - Wikipedia.html ||||| Service-oriented architecture\n",
            "__________ page_Unicode - Wikipedia.html ||||| Unicode\n",
            "__________ page_x86 - Wikipedia.html ||||| x86\n",
            "__________ page_Acclamation - Wikipedia.html ||||| Acclamation\n",
            "__________ page_A Scientific Support for Darwinism - Wikipedia.html ||||| A Scientific Support for Darwinism\n",
            "__________ page_Activism - Wikipedia.html ||||| Activism\n",
            "__________ page_Anti-capitalism - Wikipedia.html ||||| Anti-capitalism\n",
            "__________ page_Anti-nuclear movement in the United States - Wikipedia.html ||||| Anti-nuclear movement in the United States\n",
            "__________ page_Asian values - Wikipedia.html ||||| Asian values\n",
            "__________ page_Center for American Politics and Citizenship - Wikipedia.html ||||| Center for American Politics and Citizenship\n",
            "__________ page_Freedom of the press - Wikipedia.html ||||| Freedom of the press\n",
            "__________ page_Culture - Wikipedia.html ||||| Culture\n",
            "__________ page_Freedom of speech - Wikipedia.html ||||| Freedom of speech\n",
            "__________ page_Contempt of Parliament - Wikipedia.html ||||| Contempt of Parliament\n",
            "__________ page_Consistent life ethic - Wikipedia.html ||||| Consistent life ethic\n",
            "__________ page_Internet censorship - Wikipedia.html ||||| Internet censorship\n",
            "__________ page_Island country - Wikipedia.html ||||| Island country\n",
            "__________ page_Islamism - Wikipedia.html ||||| Islamism\n",
            "__________ page_Judiciary - Wikipedia.html ||||| Judiciary\n",
            "__________ page_Islamic state - Wikipedia.html ||||| Islamic state\n",
            "__________ page_May Conspiracy - Wikipedia.html ||||| May Conspiracy\n",
            "__________ page_Nazism - Wikipedia.html ||||| Nazism\n",
            "__________ page_Neo-Gramscianism - Wikipedia.html ||||| Neo-Gramscianism\n",
            "__________ page_Political science - Wikipedia.html ||||| Political science\n",
            "__________ page_Activities of daily living - Wikipedia.html ||||| Activities of daily living\n",
            "__________ page_Political statement - Wikipedia.html ||||| Political statement\n",
            "__________ page_Tax Justice Network - Wikipedia.html ||||| Tax Justice Network\n",
            "__________ page_Sovereign state - Wikipedia.html ||||| Sovereign state\n",
            "__________ page_Life expectancy - Wikipedia.html ||||| Life expectancy\n",
            "__________ page_Assisted reproductive technology - Wikipedia.html ||||| Assisted reproductive technology\n",
            "__________ page_Bacteria - Wikipedia.html ||||| Bacteria\n",
            "__________ page_Bipolar disorder - Wikipedia.html ||||| Bipolar disorder\n",
            "__________ page_Bariatric surgery - Wikipedia.html ||||| Bariatric surgery\n",
            "__________ page_Famine.html ||||| Famine\n",
            "__________ page_Cell (biology) - Wikipedia.html ||||| Cell (biology)\n",
            "__________ page_Disease - Wikipedia.html ||||| Disease\n",
            "__________ page_Health information on Wikipedia.html ||||| Health information on Wikipedia\n",
            "__________ page_Healthy diet - Wikipedia.html ||||| Healthy diet\n",
            "__________ page_Nanotechnology - Wikipedia.html ||||| Nanotechnology\n",
            "__________ page_Physical education - Wikipedia.html ||||| Physical education\n"
          ]
        }
      ],
      "source": [
        "def paragraphs_getter(file_name):\n",
        "    '''\n",
        "    Look at the htmls and find needed contents\n",
        "    '''\n",
        "\n",
        "    html = None\n",
        "    with open(f'/content/drive/MyDrive/scrape/pages/{file_name}',\n",
        "              'r', encoding='utf-8') as f:\n",
        "        html = str(f.read())\n",
        "\n",
        "    soup = BeautifulSoup(html, 'html.parser')\n",
        "\n",
        "    paragraphs = soup.find_all('p')\n",
        "\n",
        "    title = soup.find('h1', {'id': 'firstHeading'}).text\n",
        "    print('_'*10,file_name,'|'*5,title)\n",
        "\n",
        "    return paragraphs, title\n",
        "\n",
        "directory = '/content/drive/MyDrive/scrape/pages'\n",
        "\n",
        "# Get a list of files in the directory\n",
        "file_list = os.listdir(directory)\n",
        "\n",
        "paragraphs=[]\n",
        "titles=[]\n",
        "\n",
        "\n",
        "for file_name in file_list:\n",
        "  p_list=[]\n",
        "  content, title = paragraphs_getter(file_name)\n",
        "  titles.append(title)\n",
        "\n",
        "  for p in content:\n",
        "    p_list.append(p.text)\n",
        "\n",
        "\n",
        "  paragraphs.append(' '.join(p_list))\n",
        "\n",
        "\n",
        "\n",
        "\n",
        "with open('articles.csv', 'w', newline='', encoding='utf-8') as file:\n",
        "      writer = csv.writer(file)\n",
        "      writer.writerow([\"content\",\"title\"])\n",
        "\n",
        "\n",
        "filename = 'articles.csv'\n",
        "with open(filename, 'a', newline='', encoding='utf-8') as file:\n",
        "    writer = csv.writer(file)\n",
        "\n",
        "    for index, paragraph in enumerate(paragraphs):\n",
        "        writer.writerow([paragraph,titles[index]])\n",
        "\n"
      ]
    },
    {
      "cell_type": "code",
      "execution_count": null,
      "metadata": {
        "colab": {
          "base_uri": "https://localhost:8080/",
          "height": 206
        },
        "id": "6lFIQSwSFIfK",
        "outputId": "c900b174-ed7b-4bc3-a08b-284e2750cd25"
      },
      "outputs": [
        {
          "data": {
            "text/html": [
              "\n",
              "  <div id=\"df-2761a4a1-f527-45b7-b1f7-597298dae3da\">\n",
              "    <div class=\"colab-df-container\">\n",
              "      <div>\n",
              "<style scoped>\n",
              "    .dataframe tbody tr th:only-of-type {\n",
              "        vertical-align: middle;\n",
              "    }\n",
              "\n",
              "    .dataframe tbody tr th {\n",
              "        vertical-align: top;\n",
              "    }\n",
              "\n",
              "    .dataframe thead th {\n",
              "        text-align: right;\n",
              "    }\n",
              "</style>\n",
              "<table border=\"1\" class=\"dataframe\">\n",
              "  <thead>\n",
              "    <tr style=\"text-align: right;\">\n",
              "      <th></th>\n",
              "      <th>content</th>\n",
              "      <th>title</th>\n",
              "    </tr>\n",
              "  </thead>\n",
              "  <tbody>\n",
              "    <tr>\n",
              "      <th>0</th>\n",
              "      <td>\\n Public health is \"the science and art of pr...</td>\n",
              "      <td>Public health</td>\n",
              "    </tr>\n",
              "    <tr>\n",
              "      <th>1</th>\n",
              "      <td>Sexual health clinics specialize in the preven...</td>\n",
              "      <td>Sexual health clinic</td>\n",
              "    </tr>\n",
              "    <tr>\n",
              "      <th>2</th>\n",
              "      <td>\\n Smoking cessation, usually called quitting ...</td>\n",
              "      <td>Smoking cessation</td>\n",
              "    </tr>\n",
              "    <tr>\n",
              "      <th>3</th>\n",
              "      <td>An African Championship is a top level interna...</td>\n",
              "      <td>African Championship</td>\n",
              "    </tr>\n",
              "    <tr>\n",
              "      <th>4</th>\n",
              "      <td>College Cup may refer to:\\n</td>\n",
              "      <td>College Cup</td>\n",
              "    </tr>\n",
              "  </tbody>\n",
              "</table>\n",
              "</div>\n",
              "      <button class=\"colab-df-convert\" onclick=\"convertToInteractive('df-2761a4a1-f527-45b7-b1f7-597298dae3da')\"\n",
              "              title=\"Convert this dataframe to an interactive table.\"\n",
              "              style=\"display:none;\">\n",
              "        \n",
              "  <svg xmlns=\"http://www.w3.org/2000/svg\" height=\"24px\"viewBox=\"0 0 24 24\"\n",
              "       width=\"24px\">\n",
              "    <path d=\"M0 0h24v24H0V0z\" fill=\"none\"/>\n",
              "    <path d=\"M18.56 5.44l.94 2.06.94-2.06 2.06-.94-2.06-.94-.94-2.06-.94 2.06-2.06.94zm-11 1L8.5 8.5l.94-2.06 2.06-.94-2.06-.94L8.5 2.5l-.94 2.06-2.06.94zm10 10l.94 2.06.94-2.06 2.06-.94-2.06-.94-.94-2.06-.94 2.06-2.06.94z\"/><path d=\"M17.41 7.96l-1.37-1.37c-.4-.4-.92-.59-1.43-.59-.52 0-1.04.2-1.43.59L10.3 9.45l-7.72 7.72c-.78.78-.78 2.05 0 2.83L4 21.41c.39.39.9.59 1.41.59.51 0 1.02-.2 1.41-.59l7.78-7.78 2.81-2.81c.8-.78.8-2.07 0-2.86zM5.41 20L4 18.59l7.72-7.72 1.47 1.35L5.41 20z\"/>\n",
              "  </svg>\n",
              "      </button>\n",
              "      \n",
              "  <style>\n",
              "    .colab-df-container {\n",
              "      display:flex;\n",
              "      flex-wrap:wrap;\n",
              "      gap: 12px;\n",
              "    }\n",
              "\n",
              "    .colab-df-convert {\n",
              "      background-color: #E8F0FE;\n",
              "      border: none;\n",
              "      border-radius: 50%;\n",
              "      cursor: pointer;\n",
              "      display: none;\n",
              "      fill: #1967D2;\n",
              "      height: 32px;\n",
              "      padding: 0 0 0 0;\n",
              "      width: 32px;\n",
              "    }\n",
              "\n",
              "    .colab-df-convert:hover {\n",
              "      background-color: #E2EBFA;\n",
              "      box-shadow: 0px 1px 2px rgba(60, 64, 67, 0.3), 0px 1px 3px 1px rgba(60, 64, 67, 0.15);\n",
              "      fill: #174EA6;\n",
              "    }\n",
              "\n",
              "    [theme=dark] .colab-df-convert {\n",
              "      background-color: #3B4455;\n",
              "      fill: #D2E3FC;\n",
              "    }\n",
              "\n",
              "    [theme=dark] .colab-df-convert:hover {\n",
              "      background-color: #434B5C;\n",
              "      box-shadow: 0px 1px 3px 1px rgba(0, 0, 0, 0.15);\n",
              "      filter: drop-shadow(0px 1px 2px rgba(0, 0, 0, 0.3));\n",
              "      fill: #FFFFFF;\n",
              "    }\n",
              "  </style>\n",
              "\n",
              "      <script>\n",
              "        const buttonEl =\n",
              "          document.querySelector('#df-2761a4a1-f527-45b7-b1f7-597298dae3da button.colab-df-convert');\n",
              "        buttonEl.style.display =\n",
              "          google.colab.kernel.accessAllowed ? 'block' : 'none';\n",
              "\n",
              "        async function convertToInteractive(key) {\n",
              "          const element = document.querySelector('#df-2761a4a1-f527-45b7-b1f7-597298dae3da');\n",
              "          const dataTable =\n",
              "            await google.colab.kernel.invokeFunction('convertToInteractive',\n",
              "                                                     [key], {});\n",
              "          if (!dataTable) return;\n",
              "\n",
              "          const docLinkHtml = 'Like what you see? Visit the ' +\n",
              "            '<a target=\"_blank\" href=https://colab.research.google.com/notebooks/data_table.ipynb>data table notebook</a>'\n",
              "            + ' to learn more about interactive tables.';\n",
              "          element.innerHTML = '';\n",
              "          dataTable['output_type'] = 'display_data';\n",
              "          await google.colab.output.renderOutput(dataTable, element);\n",
              "          const docLink = document.createElement('div');\n",
              "          docLink.innerHTML = docLinkHtml;\n",
              "          element.appendChild(docLink);\n",
              "        }\n",
              "      </script>\n",
              "    </div>\n",
              "  </div>\n",
              "  "
            ],
            "text/plain": [
              "                                             content                 title\n",
              "0  \\n Public health is \"the science and art of pr...         Public health\n",
              "1  Sexual health clinics specialize in the preven...  Sexual health clinic\n",
              "2  \\n Smoking cessation, usually called quitting ...     Smoking cessation\n",
              "3  An African Championship is a top level interna...  African Championship\n",
              "4                        College Cup may refer to:\\n           College Cup"
            ]
          },
          "execution_count": 8,
          "metadata": {},
          "output_type": "execute_result"
        }
      ],
      "source": [
        "pd.read_csv('articles.csv').head()\n"
      ]
    },
    {
      "attachments": {},
      "cell_type": "markdown",
      "metadata": {
        "id": "GsUujhUrZrZK"
      },
      "source": [
        "# Tokenizer and preproccesses"
      ]
    },
    {
      "cell_type": "code",
      "execution_count": null,
      "metadata": {
        "colab": {
          "base_uri": "https://localhost:8080/"
        },
        "id": "iHj8YbzIZqar",
        "outputId": "b8cf5298-1225-46c6-89eb-52ac5410d22a"
      },
      "outputs": [
        {
          "name": "stderr",
          "output_type": "stream",
          "text": [
            "[nltk_data] Downloading package stopwords to /root/nltk_data...\n",
            "[nltk_data]   Unzipping corpora/stopwords.zip.\n",
            "[nltk_data] Downloading package wordnet to /root/nltk_data...\n",
            "[nltk_data] Downloading package punkt to /root/nltk_data...\n",
            "[nltk_data]   Unzipping tokenizers/punkt.zip.\n"
          ]
        }
      ],
      "source": [
        "import nltk\n",
        "import re\n",
        "from nltk import word_tokenize, WordNetLemmatizer\n",
        "from nltk.corpus import stopwords\n",
        "\n",
        "nltk.download('stopwords')\n",
        "nltk.download('wordnet')\n",
        "nltk.download('punkt')\n",
        "\n",
        "## clean the data\n",
        "stopwordSet = set(stopwords.words(\"english\"))\n",
        "\n",
        "## NlP Processing\n",
        "lemma = WordNetLemmatizer()\n",
        "\n",
        "def cleanup_sentences(sentence):\n",
        "    text = re.sub('[^a-zA-Z]',\" \", sentence) # Removing non a-z characters\n",
        "    text = text.lower() # Lowering all text\n",
        "    text = word_tokenize(text, language=\"english\") # Splitting each word into an element of a list\n",
        "    text = [lemma.lemmatize(word) for word in text if(word) not in stopwordSet] # Lemmatizing words and removing stopwords\n",
        "    text = \" \".join(text) # Putting words back into a single string. ['the', 'brown', 'cow'] --> 'the brown cow'\n",
        "    return text\n"
      ]
    },
    {
      "attachments": {},
      "cell_type": "markdown",
      "metadata": {
        "id": "dbra1AfCSEu0"
      },
      "source": [
        "# Inverted Indexing"
      ]
    },
    {
      "cell_type": "code",
      "execution_count": null,
      "metadata": {
        "colab": {
          "base_uri": "https://localhost:8080/"
        },
        "id": "reOka-UISDlz",
        "outputId": "110d2c61-ccab-45e5-8c22-eebcbc16b93f"
      },
      "outputs": [
        {
          "name": "stdout",
          "output_type": "stream",
          "text": [
            "would: ['16-bit computing', 'HTTP 404', 'Ada (programming language)', 'Computer science', 'Computer security', 'Software', 'Random-access memory', 'Recursion (computer science)', 'Transport Layer Security', 'Service-oriented architecture', 'Unicode', 'Web browser', 'Windows Me', 'x86', 'Activism', 'Anti-capitalism', 'Anti-nuclear movement in the United States', 'Asian values', 'Consistent life ethic', 'Culture', 'Contempt of Parliament', 'Freedom of speech', 'Freedom of the press', 'Internet censorship', 'Islamism', 'Islamic state', 'Judiciary', 'Nazism', 'Political science', 'Sovereign state', 'Life expectancy', 'Assisted reproductive technology', 'Bacteria', 'Bipolar disorder', 'Famine', 'Disease', 'Health information on Wikipedia', 'Healthy diet', 'Nanotechnology', 'Public health', 'Smoking cessation', 'Cooking', 'Geographical indication', 'Jerk (cooking)', 'Veganism', 'Colotomy', 'Adaptive music', 'Battle', 'Iranian Revolution', 'Achaemenid Empire', 'Chi-squared test', 'Deletion (genetics)', 'Microorganism', 'Plasmid', 'Repeated sequence (DNA)', 'Trophic level']\n",
            "often: ['16-bit computing', 'HTTP 404', 'Computer accessibility', 'Ada (programming language)', 'Computer programming', 'Computer science', 'Computer security', 'Software', 'Random-access memory', 'Recursion (computer science)', 'Transport Layer Security', 'Unicode', 'Web browser', 'x86', 'Acclamation', 'Activism', 'Anti-nuclear movement in the United States', 'Asian values', 'Consistent life ethic', 'Culture', 'Freedom of speech', 'Freedom of the press', 'Internet censorship', 'Island country', 'Islamism', 'Islamic state', 'Nazism', 'Political science', 'Sovereign state', 'Activities of daily living', 'Life expectancy', 'Assisted reproductive technology', 'Bacteria', 'Bipolar disorder', 'Bariatric surgery', 'Famine', 'Disease', 'Health information on Wikipedia', 'Healthy diet', 'Nanotechnology', 'Physical education', 'Public health', 'Sexual health clinic', 'Smoking cessation', 'Cooking', 'Geographical indication', 'Veganism', 'Weight loss', 'Opera in English', 'Colotomy', 'Duet', 'Adaptive music', 'Battle', 'Iranian Revolution', 'Achaemenid Empire', 'Chi-squared test', 'Microorganism', 'Plasmid', 'Repeated sequence (DNA)', 'Trophic level']\n",
            "platform: ['16-bit computing', 'Computer accessibility', 'Ada (programming language)', 'ASP.NET', 'Computer security', 'Software', 'Transport Layer Security', 'Service-oriented architecture', 'Unicode', 'x86', 'Activism', 'Anti-nuclear movement in the United States', 'Consistent life ethic', 'Internet censorship', 'Health information on Wikipedia', 'Nanotechnology']\n",
            "made: ['16-bit computing', 'Computer programming', 'Computer science', 'Computer security', 'Software', 'Recursion (computer science)', 'Transport Layer Security', 'Unicode', 'Web browser', 'Windows Me', 'x86', 'Activism', 'Anti-nuclear movement in the United States', 'Asian values', 'Consistent life ethic', 'Culture', 'Contempt of Parliament', 'Freedom of speech', 'Freedom of the press', 'Internet censorship', 'Islamism', 'Islamic state', 'Judiciary', 'Nazism', 'Political statement', 'Sovereign state', 'Activities of daily living', 'Life expectancy', 'Assisted reproductive technology', 'Bacteria', 'Bipolar disorder', 'Bariatric surgery', 'Famine', 'Cell (biology)', 'Health information on Wikipedia', 'Nanotechnology', 'Public health', 'Cooking', 'Geographical indication', 'Jerk (cooking)', 'Veganism', 'Opera in English', 'Euouae', 'Adaptive music', 'Battle', 'Iranian Revolution', 'Achaemenid Empire', 'Chi-squared test', 'Microorganism', 'Phycology', 'Repeated sequence (DNA)']\n",
            "improving: ['16-bit computing', 'Ada (programming language)', 'Computer security', 'Unicode', 'Windows Me', 'Anti-nuclear movement in the United States', 'Bipolar disorder', 'Bariatric surgery', 'Health information on Wikipedia', 'Public health']\n",
            "two: ['16-bit computing', 'HTTP 404', 'Computer accessibility', 'Ada (programming language)', 'ASP.NET', 'Computer programming', 'Computer science', 'Computer security', 'Software', 'Random-access memory', 'Recursion (computer science)', 'Transport Layer Security', 'Service-oriented architecture', 'Unicode', 'Web browser', 'Windows Me', 'x86', 'Acclamation', 'Anti-nuclear movement in the United States', 'Culture', 'Contempt of Parliament', 'Freedom of speech', 'Freedom of the press', 'Internet censorship', 'Island country', 'Islamism', 'Islamic state', 'Judiciary', 'Nazism', 'Neo-Gramscianism', 'Political science', 'Tax Justice Network', 'Sovereign state', 'Life expectancy', 'Assisted reproductive technology', 'Bacteria', 'Bipolar disorder', 'Bariatric surgery', 'Famine', 'Cell (biology)', 'Health information on Wikipedia', 'Nanotechnology', 'Physical education', 'Public health', 'Smoking cessation', 'Cooking', 'Geographical indication', 'Veganism', 'Weight loss', 'Augmented octave', 'Bayaty-Shiraz (mode)', 'Opera in English', 'Colotomy', 'Duet', 'Adaptive music', 'Music tourism', 'Battle', 'Iranian Revolution', 'Achaemenid Empire', 'Chi-squared test', 'Deletion (genetics)', 'Microorganism', 'Plasmid', 'Repeated sequence (DNA)', 'Trophic level']\n",
            "see: ['16-bit computing', 'Ada (programming language)', 'Computer security', 'Software', 'Recursion (computer science)', 'Transport Layer Security', 'Service-oriented architecture', 'Unicode', 'Windows Me', 'x86', 'Acclamation', 'Activism', 'Anti-capitalism', 'Consistent life ethic', 'Culture', 'Freedom of speech', 'Freedom of the press', 'Islamism', 'Islamic state', 'Nazism', 'Political science', 'Sovereign state', 'Life expectancy', 'Assisted reproductive technology', 'Bacteria', 'Bariatric surgery', 'Famine', 'Disease', 'Cell (biology)', 'Nanotechnology', 'Physical education', 'Public health', 'Smoking cessation', 'Cooking', 'Geographical indication', 'Veganism', 'Opera in English', 'Duet', 'Music tourism', 'Iranian Revolution', 'Chi-squared test', 'Plasmid']\n",
            "different: ['16-bit computing', 'HTTP 404', 'Computer accessibility', 'Ada (programming language)', 'ASP.NET', 'Computer programming', 'Computer science', 'Computer security', 'Software', 'Random-access memory', 'Recursion (computer science)', 'Transport Layer Security', 'Service-oriented architecture', 'Unicode', 'Windows Me', 'x86', 'Activism', 'Asian values', 'Consistent life ethic', 'Culture', 'Freedom of speech', 'Internet censorship', 'Islamism', 'Islamic state', 'Judiciary', 'Nazism', 'Neo-Gramscianism', 'Political science', 'Sovereign state', 'Activities of daily living', 'Life expectancy', 'Bacteria', 'Bipolar disorder', 'Famine', 'Disease', 'Cell (biology)', 'Healthy diet', 'Nanotechnology', 'Public health', 'Smoking cessation', 'Cooking', 'Geographical indication', 'Veganism', 'Bayaty-Shiraz (mode)', 'Opera in English', 'Colotomy', 'Adaptive music', 'Battle', 'Iranian Revolution', 'Achaemenid Empire', 'Chi-squared test', 'Deletion (genetics)', 'Microorganism', 'Plasmid', 'Repeated sequence (DNA)', 'Trophic level']\n",
            "measure: ['16-bit computing', 'Computer security', 'Transport Layer Security', 'Web browser', 'Anti-capitalism', 'Asian values', 'Freedom of speech', 'Freedom of the press', 'Internet censorship', 'Islamism', 'Nazism', 'Political science', 'Tax Justice Network', 'Sovereign state', 'Activities of daily living', 'Life expectancy', 'Bacteria', 'Bariatric surgery', 'Famine', 'Disease', 'Public health', 'Smoking cessation', 'Geographical indication', 'Iranian Revolution', 'Achaemenid Empire', 'Microorganism']\n",
            "called: ['16-bit computing', 'HTTP 404', 'Ada (programming language)', 'Computer programming', 'Computer science', 'Computer security', 'Software', 'Random-access memory', 'Recursion (computer science)', 'Transport Layer Security', 'Service-oriented architecture', 'Unicode', 'Web browser', 'x86', 'A Scientific Support for Darwinism', 'Activism', 'Anti-capitalism', 'Anti-nuclear movement in the United States', 'Asian values', 'Culture', 'Contempt of Parliament', 'Freedom of speech', 'Freedom of the press', 'Internet censorship', 'Islamism', 'Islamic state', 'Judiciary', 'May Conspiracy', 'Nazism', 'Neo-Gramscianism', 'Political science', 'Life expectancy', 'Bacteria', 'Bipolar disorder', 'Bariatric surgery', 'Famine', 'Disease', 'Cell (biology)', 'Health information on Wikipedia', 'Nanotechnology', 'Public health', 'Sexual health clinic', 'Smoking cessation', 'Cooking', 'Geographical indication', 'Jerk (cooking)', 'Veganism', 'Weight loss', 'Bayaty-Shiraz (mode)', 'Colotomy', 'Duet', 'Adaptive music', 'Battle', 'Iranian Revolution', 'Achaemenid Empire', 'Deletion (genetics)', 'Microorganism', 'Phycology', 'Plasmid', 'Repeated sequence (DNA)', 'Trophic level']\n",
            "containing: ['16-bit computing', 'Computer security', 'Software', 'Unicode', 'Windows Me', 'x86', 'Bacteria', 'Cell (biology)', 'Physical education', 'Public health', 'Smoking cessation', 'Cooking', 'Jerk (cooking)', 'Veganism', 'Plasmid', 'Repeated sequence (DNA)']\n"
          ]
        }
      ],
      "source": [
        "def create_inverted_index(articles):\n",
        "    inverted_index = {}\n",
        "\n",
        "    # Iterate through each article\n",
        "    for article_id, article_content in articles.items():\n",
        "        # Tokenize the article into individual terms\n",
        "        # terms = article_content.lower().split()\n",
        "        terms = set(article_content.lower().split())  # Use a set to remove duplicates\n",
        "\n",
        "\n",
        "        # Update the inverted index\n",
        "        for term in terms:\n",
        "            if term in inverted_index:\n",
        "                # Add the article ID to the existing entry\n",
        "                inverted_index[term].append(article_id)\n",
        "            else:\n",
        "                # Create a new entry with the article ID\n",
        "                inverted_index[term] = [article_id]\n",
        "\n",
        "    return inverted_index\n",
        "\n",
        "directory = '/content/drive/MyDrive/scrape'\n",
        "df = pd.read_csv(f'{directory}/articles.csv')#.head()\n",
        "# Cleanup texts\n",
        "df['content'] = df['content'].apply(cleanup_sentences)\n",
        "df_dict = df.to_dict()\n",
        "articles = df_dict['content']\n",
        "titles = df_dict['title']\n",
        "# print(titles)\n",
        "# Change the key from old 0, 1, 2 ... to article title\n",
        "for index, key in enumerate(list(articles)):\n",
        "  new_key = titles[index]\n",
        "  articles[new_key] = articles.pop(index)\n",
        "\n",
        "\n",
        "inverted_index = create_inverted_index(articles)\n",
        "\n",
        "index=0\n",
        "# Print the inverted index\n",
        "for term, document_ids in inverted_index.items():\n",
        "    print(f\"{term}: {document_ids}\")\n",
        "\n",
        "    index+=1\n",
        "    if index > 10 :\n",
        "      break\n"
      ]
    },
    {
      "cell_type": "code",
      "execution_count": null,
      "metadata": {
        "id": "K8kNqtGqWAic"
      },
      "outputs": [],
      "source": [
        "# Save as CSV file using csv.writer()\n",
        "with open(f'{directory}/inverted_index.csv', mode='w', newline='') as file:\n",
        "\twriter = csv.writer(file)\n",
        "\tfor term, document_ids in inverted_index.items():\n",
        "\t\twriter.writerow([term] + document_ids)"
      ]
    },
    {
      "attachments": {},
      "cell_type": "markdown",
      "metadata": {
        "id": "c81gHwNVdrTi"
      },
      "source": [
        "# Bert"
      ]
    },
    {
      "cell_type": "code",
      "execution_count": null,
      "metadata": {
        "colab": {
          "base_uri": "https://localhost:8080/"
        },
        "id": "pLMCjmEiewdA",
        "outputId": "ac527bc1-97d2-4111-924a-b406477fd261"
      },
      "outputs": [
        {
          "name": "stdout",
          "output_type": "stream",
          "text": [
            "Requirement already satisfied: bertopic in /usr/local/lib/python3.10/dist-packages (0.15.0)\n",
            "Requirement already satisfied: sentence-transformers in /usr/local/lib/python3.10/dist-packages (2.2.2)\n",
            "Requirement already satisfied: numpy>=1.20.0 in /usr/local/lib/python3.10/dist-packages (from bertopic) (1.22.4)\n",
            "Requirement already satisfied: hdbscan>=0.8.29 in /usr/local/lib/python3.10/dist-packages (from bertopic) (0.8.29)\n",
            "Requirement already satisfied: umap-learn>=0.5.0 in /usr/local/lib/python3.10/dist-packages (from bertopic) (0.5.3)\n",
            "Requirement already satisfied: pandas>=1.1.5 in /usr/local/lib/python3.10/dist-packages (from bertopic) (1.5.3)\n",
            "Requirement already satisfied: scikit-learn>=0.22.2.post1 in /usr/local/lib/python3.10/dist-packages (from bertopic) (1.2.2)\n",
            "Requirement already satisfied: tqdm>=4.41.1 in /usr/local/lib/python3.10/dist-packages (from bertopic) (4.65.0)\n",
            "Requirement already satisfied: plotly>=4.7.0 in /usr/local/lib/python3.10/dist-packages (from bertopic) (5.13.1)\n",
            "Requirement already satisfied: transformers<5.0.0,>=4.6.0 in /usr/local/lib/python3.10/dist-packages (from sentence-transformers) (4.30.2)\n",
            "Requirement already satisfied: torch>=1.6.0 in /usr/local/lib/python3.10/dist-packages (from sentence-transformers) (2.0.1+cu118)\n",
            "Requirement already satisfied: torchvision in /usr/local/lib/python3.10/dist-packages (from sentence-transformers) (0.15.2+cu118)\n",
            "Requirement already satisfied: scipy in /usr/local/lib/python3.10/dist-packages (from sentence-transformers) (1.10.1)\n",
            "Requirement already satisfied: nltk in /usr/local/lib/python3.10/dist-packages (from sentence-transformers) (3.8.1)\n",
            "Requirement already satisfied: sentencepiece in /usr/local/lib/python3.10/dist-packages (from sentence-transformers) (0.1.99)\n",
            "Requirement already satisfied: huggingface-hub>=0.4.0 in /usr/local/lib/python3.10/dist-packages (from sentence-transformers) (0.15.1)\n",
            "Requirement already satisfied: cython>=0.27 in /usr/local/lib/python3.10/dist-packages (from hdbscan>=0.8.29->bertopic) (0.29.35)\n",
            "Requirement already satisfied: joblib>=1.0 in /usr/local/lib/python3.10/dist-packages (from hdbscan>=0.8.29->bertopic) (1.3.1)\n",
            "Requirement already satisfied: filelock in /usr/local/lib/python3.10/dist-packages (from huggingface-hub>=0.4.0->sentence-transformers) (3.12.2)\n",
            "Requirement already satisfied: fsspec in /usr/local/lib/python3.10/dist-packages (from huggingface-hub>=0.4.0->sentence-transformers) (2023.6.0)\n",
            "Requirement already satisfied: requests in /usr/local/lib/python3.10/dist-packages (from huggingface-hub>=0.4.0->sentence-transformers) (2.27.1)\n",
            "Requirement already satisfied: pyyaml>=5.1 in /usr/local/lib/python3.10/dist-packages (from huggingface-hub>=0.4.0->sentence-transformers) (6.0)\n",
            "Requirement already satisfied: typing-extensions>=3.7.4.3 in /usr/local/lib/python3.10/dist-packages (from huggingface-hub>=0.4.0->sentence-transformers) (4.6.3)\n",
            "Requirement already satisfied: packaging>=20.9 in /usr/local/lib/python3.10/dist-packages (from huggingface-hub>=0.4.0->sentence-transformers) (23.1)\n",
            "Requirement already satisfied: python-dateutil>=2.8.1 in /usr/local/lib/python3.10/dist-packages (from pandas>=1.1.5->bertopic) (2.8.2)\n",
            "Requirement already satisfied: pytz>=2020.1 in /usr/local/lib/python3.10/dist-packages (from pandas>=1.1.5->bertopic) (2022.7.1)\n",
            "Requirement already satisfied: tenacity>=6.2.0 in /usr/local/lib/python3.10/dist-packages (from plotly>=4.7.0->bertopic) (8.2.2)\n",
            "Requirement already satisfied: threadpoolctl>=2.0.0 in /usr/local/lib/python3.10/dist-packages (from scikit-learn>=0.22.2.post1->bertopic) (3.1.0)\n",
            "Requirement already satisfied: sympy in /usr/local/lib/python3.10/dist-packages (from torch>=1.6.0->sentence-transformers) (1.11.1)\n",
            "Requirement already satisfied: networkx in /usr/local/lib/python3.10/dist-packages (from torch>=1.6.0->sentence-transformers) (3.1)\n",
            "Requirement already satisfied: jinja2 in /usr/local/lib/python3.10/dist-packages (from torch>=1.6.0->sentence-transformers) (3.1.2)\n",
            "Requirement already satisfied: triton==2.0.0 in /usr/local/lib/python3.10/dist-packages (from torch>=1.6.0->sentence-transformers) (2.0.0)\n",
            "Requirement already satisfied: cmake in /usr/local/lib/python3.10/dist-packages (from triton==2.0.0->torch>=1.6.0->sentence-transformers) (3.25.2)\n",
            "Requirement already satisfied: lit in /usr/local/lib/python3.10/dist-packages (from triton==2.0.0->torch>=1.6.0->sentence-transformers) (16.0.6)\n",
            "Requirement already satisfied: regex!=2019.12.17 in /usr/local/lib/python3.10/dist-packages (from transformers<5.0.0,>=4.6.0->sentence-transformers) (2022.10.31)\n",
            "Requirement already satisfied: tokenizers!=0.11.3,<0.14,>=0.11.1 in /usr/local/lib/python3.10/dist-packages (from transformers<5.0.0,>=4.6.0->sentence-transformers) (0.13.3)\n",
            "Requirement already satisfied: safetensors>=0.3.1 in /usr/local/lib/python3.10/dist-packages (from transformers<5.0.0,>=4.6.0->sentence-transformers) (0.3.1)\n",
            "Requirement already satisfied: numba>=0.49 in /usr/local/lib/python3.10/dist-packages (from umap-learn>=0.5.0->bertopic) (0.56.4)\n",
            "Requirement already satisfied: pynndescent>=0.5 in /usr/local/lib/python3.10/dist-packages (from umap-learn>=0.5.0->bertopic) (0.5.10)\n",
            "Requirement already satisfied: click in /usr/local/lib/python3.10/dist-packages (from nltk->sentence-transformers) (8.1.3)\n",
            "Requirement already satisfied: pillow!=8.3.*,>=5.3.0 in /usr/local/lib/python3.10/dist-packages (from torchvision->sentence-transformers) (8.4.0)\n",
            "Requirement already satisfied: llvmlite<0.40,>=0.39.0dev0 in /usr/local/lib/python3.10/dist-packages (from numba>=0.49->umap-learn>=0.5.0->bertopic) (0.39.1)\n",
            "Requirement already satisfied: setuptools in /usr/local/lib/python3.10/dist-packages (from numba>=0.49->umap-learn>=0.5.0->bertopic) (67.7.2)\n",
            "Requirement already satisfied: six>=1.5 in /usr/local/lib/python3.10/dist-packages (from python-dateutil>=2.8.1->pandas>=1.1.5->bertopic) (1.16.0)\n",
            "Requirement already satisfied: MarkupSafe>=2.0 in /usr/local/lib/python3.10/dist-packages (from jinja2->torch>=1.6.0->sentence-transformers) (2.1.3)\n",
            "Requirement already satisfied: urllib3<1.27,>=1.21.1 in /usr/local/lib/python3.10/dist-packages (from requests->huggingface-hub>=0.4.0->sentence-transformers) (1.26.16)\n",
            "Requirement already satisfied: certifi>=2017.4.17 in /usr/local/lib/python3.10/dist-packages (from requests->huggingface-hub>=0.4.0->sentence-transformers) (2023.5.7)\n",
            "Requirement already satisfied: charset-normalizer~=2.0.0 in /usr/local/lib/python3.10/dist-packages (from requests->huggingface-hub>=0.4.0->sentence-transformers) (2.0.12)\n",
            "Requirement already satisfied: idna<4,>=2.5 in /usr/local/lib/python3.10/dist-packages (from requests->huggingface-hub>=0.4.0->sentence-transformers) (3.4)\n",
            "Requirement already satisfied: mpmath>=0.19 in /usr/local/lib/python3.10/dist-packages (from sympy->torch>=1.6.0->sentence-transformers) (1.3.0)\n"
          ]
        }
      ],
      "source": [
        "# !pip install --upgrade joblib\n",
        "!pip install bertopic sentence-transformers\n"
      ]
    },
    {
      "cell_type": "code",
      "execution_count": null,
      "metadata": {
        "id": "RKUVJPf_drCT"
      },
      "outputs": [],
      "source": [
        "from bertopic import BERTopic\n",
        "from sentence_transformers import SentenceTransformer\n",
        "from bertopic.representation import MaximalMarginalRelevance"
      ]
    },
    {
      "cell_type": "code",
      "execution_count": null,
      "metadata": {
        "id": "fCrxyhuvahOT"
      },
      "outputs": [],
      "source": [
        "sentence_model = SentenceTransformer(\"all-distilroberta-v1\")\n",
        "topic_model = BERTopic(embedding_model=sentence_model, calculate_probabilities = True, verbose = True, )# diversity = 0.2\n"
      ]
    },
    {
      "cell_type": "code",
      "execution_count": null,
      "metadata": {
        "colab": {
          "base_uri": "https://localhost:8080/",
          "height": 101,
          "referenced_widgets": [
            "3e29aac0c3724c63a11391437ab75477",
            "203f878dba5f4a3facc38ec88765e2f7",
            "0e3d21f91aa54380b04f3435e91a21ad",
            "b59dd6be2fc84517bfb1a1f35b7bccf8",
            "026a9e51e7b44d9e94f264112b30bb91",
            "8a82ccf11d8b4060b7cfb89a13b26e09",
            "8890d1144e6345f982476c5dcf9e5e8c",
            "e6bc03b7660b4ad8b6e0e9551732ed56",
            "e9fbf6ef75954e60956102eda39dec6c",
            "1f402a60926d46fd821dd245e0211822",
            "ecb160d92ea54394b1bd50ae45aceff0"
          ]
        },
        "id": "-v4FNoJIeSkw",
        "outputId": "77eabfd1-0a3c-4855-f394-0d7d63d20ec3"
      },
      "outputs": [
        {
          "data": {
            "application/vnd.jupyter.widget-view+json": {
              "model_id": "3e29aac0c3724c63a11391437ab75477",
              "version_major": 2,
              "version_minor": 0
            },
            "text/plain": [
              "Batches:   0%|          | 0/3 [00:00<?, ?it/s]"
            ]
          },
          "metadata": {},
          "output_type": "display_data"
        },
        {
          "name": "stderr",
          "output_type": "stream",
          "text": [
            "2023-07-02 07:35:18,511 - BERTopic - Transformed documents to Embeddings\n",
            "2023-07-02 07:35:28,178 - BERTopic - Reduced dimensionality\n",
            "2023-07-02 07:35:28,192 - BERTopic - Clustered reduced embeddings\n"
          ]
        }
      ],
      "source": [
        "### train the model on the documents\n",
        "docs = list(articles.values())\n",
        "topics, probabilities = topic_model.fit_transform(docs)"
      ]
    },
    {
      "cell_type": "code",
      "execution_count": null,
      "metadata": {
        "colab": {
          "base_uri": "https://localhost:8080/",
          "height": 288
        },
        "id": "SE6tug1XeYqZ",
        "outputId": "f696fdd6-7e7f-489d-b0b4-31d6047abae8"
      },
      "outputs": [
        {
          "data": {
            "text/html": [
              "\n",
              "  <div id=\"df-fbc1c59c-8910-473c-8df6-9ee1611b78f5\">\n",
              "    <div class=\"colab-df-container\">\n",
              "      <div>\n",
              "<style scoped>\n",
              "    .dataframe tbody tr th:only-of-type {\n",
              "        vertical-align: middle;\n",
              "    }\n",
              "\n",
              "    .dataframe tbody tr th {\n",
              "        vertical-align: top;\n",
              "    }\n",
              "\n",
              "    .dataframe thead th {\n",
              "        text-align: right;\n",
              "    }\n",
              "</style>\n",
              "<table border=\"1\" class=\"dataframe\">\n",
              "  <thead>\n",
              "    <tr style=\"text-align: right;\">\n",
              "      <th></th>\n",
              "      <th>Topic</th>\n",
              "      <th>Count</th>\n",
              "      <th>Name</th>\n",
              "      <th>Representation</th>\n",
              "      <th>Representative_Docs</th>\n",
              "    </tr>\n",
              "  </thead>\n",
              "  <tbody>\n",
              "    <tr>\n",
              "      <th>0</th>\n",
              "      <td>-1</td>\n",
              "      <td>20</td>\n",
              "      <td>-1_famine_cell_bacteria_food</td>\n",
              "      <td>[famine, cell, bacteria, food, plasmid, life, ...</td>\n",
              "      <td>[cell basic structural functional unit life fo...</td>\n",
              "    </tr>\n",
              "    <tr>\n",
              "      <th>1</th>\n",
              "      <td>0</td>\n",
              "      <td>34</td>\n",
              "      <td>0_state_political_government_nazi</td>\n",
              "      <td>[state, political, government, nazi, nuclear, ...</td>\n",
              "      <td>[political militant islam portal islamism also...</td>\n",
              "    </tr>\n",
              "    <tr>\n",
              "      <th>2</th>\n",
              "      <td>1</td>\n",
              "      <td>19</td>\n",
              "      <td>1_computer_bit_system_tl</td>\n",
              "      <td>[computer, bit, system, tl, software, used, da...</td>\n",
              "      <td>[transport layer security tl cryptographic pro...</td>\n",
              "    </tr>\n",
              "    <tr>\n",
              "      <th>3</th>\n",
              "      <td>2</td>\n",
              "      <td>14</td>\n",
              "      <td>2_health_disorder_disease_bipolar</td>\n",
              "      <td>[health, disorder, disease, bipolar, public, w...</td>\n",
              "      <td>[disease particular abnormal condition negativ...</td>\n",
              "    </tr>\n",
              "  </tbody>\n",
              "</table>\n",
              "</div>\n",
              "      <button class=\"colab-df-convert\" onclick=\"convertToInteractive('df-fbc1c59c-8910-473c-8df6-9ee1611b78f5')\"\n",
              "              title=\"Convert this dataframe to an interactive table.\"\n",
              "              style=\"display:none;\">\n",
              "        \n",
              "  <svg xmlns=\"http://www.w3.org/2000/svg\" height=\"24px\"viewBox=\"0 0 24 24\"\n",
              "       width=\"24px\">\n",
              "    <path d=\"M0 0h24v24H0V0z\" fill=\"none\"/>\n",
              "    <path d=\"M18.56 5.44l.94 2.06.94-2.06 2.06-.94-2.06-.94-.94-2.06-.94 2.06-2.06.94zm-11 1L8.5 8.5l.94-2.06 2.06-.94-2.06-.94L8.5 2.5l-.94 2.06-2.06.94zm10 10l.94 2.06.94-2.06 2.06-.94-2.06-.94-.94-2.06-.94 2.06-2.06.94z\"/><path d=\"M17.41 7.96l-1.37-1.37c-.4-.4-.92-.59-1.43-.59-.52 0-1.04.2-1.43.59L10.3 9.45l-7.72 7.72c-.78.78-.78 2.05 0 2.83L4 21.41c.39.39.9.59 1.41.59.51 0 1.02-.2 1.41-.59l7.78-7.78 2.81-2.81c.8-.78.8-2.07 0-2.86zM5.41 20L4 18.59l7.72-7.72 1.47 1.35L5.41 20z\"/>\n",
              "  </svg>\n",
              "      </button>\n",
              "      \n",
              "  <style>\n",
              "    .colab-df-container {\n",
              "      display:flex;\n",
              "      flex-wrap:wrap;\n",
              "      gap: 12px;\n",
              "    }\n",
              "\n",
              "    .colab-df-convert {\n",
              "      background-color: #E8F0FE;\n",
              "      border: none;\n",
              "      border-radius: 50%;\n",
              "      cursor: pointer;\n",
              "      display: none;\n",
              "      fill: #1967D2;\n",
              "      height: 32px;\n",
              "      padding: 0 0 0 0;\n",
              "      width: 32px;\n",
              "    }\n",
              "\n",
              "    .colab-df-convert:hover {\n",
              "      background-color: #E2EBFA;\n",
              "      box-shadow: 0px 1px 2px rgba(60, 64, 67, 0.3), 0px 1px 3px 1px rgba(60, 64, 67, 0.15);\n",
              "      fill: #174EA6;\n",
              "    }\n",
              "\n",
              "    [theme=dark] .colab-df-convert {\n",
              "      background-color: #3B4455;\n",
              "      fill: #D2E3FC;\n",
              "    }\n",
              "\n",
              "    [theme=dark] .colab-df-convert:hover {\n",
              "      background-color: #434B5C;\n",
              "      box-shadow: 0px 1px 3px 1px rgba(0, 0, 0, 0.15);\n",
              "      filter: drop-shadow(0px 1px 2px rgba(0, 0, 0, 0.3));\n",
              "      fill: #FFFFFF;\n",
              "    }\n",
              "  </style>\n",
              "\n",
              "      <script>\n",
              "        const buttonEl =\n",
              "          document.querySelector('#df-fbc1c59c-8910-473c-8df6-9ee1611b78f5 button.colab-df-convert');\n",
              "        buttonEl.style.display =\n",
              "          google.colab.kernel.accessAllowed ? 'block' : 'none';\n",
              "\n",
              "        async function convertToInteractive(key) {\n",
              "          const element = document.querySelector('#df-fbc1c59c-8910-473c-8df6-9ee1611b78f5');\n",
              "          const dataTable =\n",
              "            await google.colab.kernel.invokeFunction('convertToInteractive',\n",
              "                                                     [key], {});\n",
              "          if (!dataTable) return;\n",
              "\n",
              "          const docLinkHtml = 'Like what you see? Visit the ' +\n",
              "            '<a target=\"_blank\" href=https://colab.research.google.com/notebooks/data_table.ipynb>data table notebook</a>'\n",
              "            + ' to learn more about interactive tables.';\n",
              "          element.innerHTML = '';\n",
              "          dataTable['output_type'] = 'display_data';\n",
              "          await google.colab.output.renderOutput(dataTable, element);\n",
              "          const docLink = document.createElement('div');\n",
              "          docLink.innerHTML = docLinkHtml;\n",
              "          element.appendChild(docLink);\n",
              "        }\n",
              "      </script>\n",
              "    </div>\n",
              "  </div>\n",
              "  "
            ],
            "text/plain": [
              "   Topic  Count                               Name  \\\n",
              "0     -1     20       -1_famine_cell_bacteria_food   \n",
              "1      0     34  0_state_political_government_nazi   \n",
              "2      1     19           1_computer_bit_system_tl   \n",
              "3      2     14  2_health_disorder_disease_bipolar   \n",
              "\n",
              "                                      Representation  \\\n",
              "0  [famine, cell, bacteria, food, plasmid, life, ...   \n",
              "1  [state, political, government, nazi, nuclear, ...   \n",
              "2  [computer, bit, system, tl, software, used, da...   \n",
              "3  [health, disorder, disease, bipolar, public, w...   \n",
              "\n",
              "                                 Representative_Docs  \n",
              "0  [cell basic structural functional unit life fo...  \n",
              "1  [political militant islam portal islamism also...  \n",
              "2  [transport layer security tl cryptographic pro...  \n",
              "3  [disease particular abnormal condition negativ...  "
            ]
          },
          "execution_count": 20,
          "metadata": {},
          "output_type": "execute_result"
        }
      ],
      "source": [
        "freq = topic_model.get_topic_info()\n",
        "freq.head(5)"
      ]
    },
    {
      "cell_type": "code",
      "execution_count": null,
      "metadata": {
        "id": "ry__hTT4ea7o"
      },
      "outputs": [],
      "source": [
        "# topic_model.visualize_barchart()\n"
      ]
    },
    {
      "cell_type": "code",
      "execution_count": null,
      "metadata": {
        "colab": {
          "base_uri": "https://localhost:8080/",
          "height": 175
        },
        "id": "daAE61mXiIDy",
        "outputId": "6fe2b219-51b9-4764-b2ce-9813dd68908f"
      },
      "outputs": [
        {
          "data": {
            "text/html": [
              "\n",
              "  <div id=\"df-27a69868-1d17-4908-bfee-67c181ff000c\">\n",
              "    <div class=\"colab-df-container\">\n",
              "      <div>\n",
              "<style scoped>\n",
              "    .dataframe tbody tr th:only-of-type {\n",
              "        vertical-align: middle;\n",
              "    }\n",
              "\n",
              "    .dataframe tbody tr th {\n",
              "        vertical-align: top;\n",
              "    }\n",
              "\n",
              "    .dataframe thead th {\n",
              "        text-align: right;\n",
              "    }\n",
              "</style>\n",
              "<table border=\"1\" class=\"dataframe\">\n",
              "  <thead>\n",
              "    <tr style=\"text-align: right;\">\n",
              "      <th></th>\n",
              "      <th>Topic</th>\n",
              "      <th>Count</th>\n",
              "    </tr>\n",
              "  </thead>\n",
              "  <tbody>\n",
              "    <tr>\n",
              "      <th>1</th>\n",
              "      <td>0</td>\n",
              "      <td>34</td>\n",
              "    </tr>\n",
              "    <tr>\n",
              "      <th>2</th>\n",
              "      <td>-1</td>\n",
              "      <td>20</td>\n",
              "    </tr>\n",
              "    <tr>\n",
              "      <th>0</th>\n",
              "      <td>1</td>\n",
              "      <td>19</td>\n",
              "    </tr>\n",
              "    <tr>\n",
              "      <th>3</th>\n",
              "      <td>2</td>\n",
              "      <td>14</td>\n",
              "    </tr>\n",
              "  </tbody>\n",
              "</table>\n",
              "</div>\n",
              "      <button class=\"colab-df-convert\" onclick=\"convertToInteractive('df-27a69868-1d17-4908-bfee-67c181ff000c')\"\n",
              "              title=\"Convert this dataframe to an interactive table.\"\n",
              "              style=\"display:none;\">\n",
              "        \n",
              "  <svg xmlns=\"http://www.w3.org/2000/svg\" height=\"24px\"viewBox=\"0 0 24 24\"\n",
              "       width=\"24px\">\n",
              "    <path d=\"M0 0h24v24H0V0z\" fill=\"none\"/>\n",
              "    <path d=\"M18.56 5.44l.94 2.06.94-2.06 2.06-.94-2.06-.94-.94-2.06-.94 2.06-2.06.94zm-11 1L8.5 8.5l.94-2.06 2.06-.94-2.06-.94L8.5 2.5l-.94 2.06-2.06.94zm10 10l.94 2.06.94-2.06 2.06-.94-2.06-.94-.94-2.06-.94 2.06-2.06.94z\"/><path d=\"M17.41 7.96l-1.37-1.37c-.4-.4-.92-.59-1.43-.59-.52 0-1.04.2-1.43.59L10.3 9.45l-7.72 7.72c-.78.78-.78 2.05 0 2.83L4 21.41c.39.39.9.59 1.41.59.51 0 1.02-.2 1.41-.59l7.78-7.78 2.81-2.81c.8-.78.8-2.07 0-2.86zM5.41 20L4 18.59l7.72-7.72 1.47 1.35L5.41 20z\"/>\n",
              "  </svg>\n",
              "      </button>\n",
              "      \n",
              "  <style>\n",
              "    .colab-df-container {\n",
              "      display:flex;\n",
              "      flex-wrap:wrap;\n",
              "      gap: 12px;\n",
              "    }\n",
              "\n",
              "    .colab-df-convert {\n",
              "      background-color: #E8F0FE;\n",
              "      border: none;\n",
              "      border-radius: 50%;\n",
              "      cursor: pointer;\n",
              "      display: none;\n",
              "      fill: #1967D2;\n",
              "      height: 32px;\n",
              "      padding: 0 0 0 0;\n",
              "      width: 32px;\n",
              "    }\n",
              "\n",
              "    .colab-df-convert:hover {\n",
              "      background-color: #E2EBFA;\n",
              "      box-shadow: 0px 1px 2px rgba(60, 64, 67, 0.3), 0px 1px 3px 1px rgba(60, 64, 67, 0.15);\n",
              "      fill: #174EA6;\n",
              "    }\n",
              "\n",
              "    [theme=dark] .colab-df-convert {\n",
              "      background-color: #3B4455;\n",
              "      fill: #D2E3FC;\n",
              "    }\n",
              "\n",
              "    [theme=dark] .colab-df-convert:hover {\n",
              "      background-color: #434B5C;\n",
              "      box-shadow: 0px 1px 3px 1px rgba(0, 0, 0, 0.15);\n",
              "      filter: drop-shadow(0px 1px 2px rgba(0, 0, 0, 0.3));\n",
              "      fill: #FFFFFF;\n",
              "    }\n",
              "  </style>\n",
              "\n",
              "      <script>\n",
              "        const buttonEl =\n",
              "          document.querySelector('#df-27a69868-1d17-4908-bfee-67c181ff000c button.colab-df-convert');\n",
              "        buttonEl.style.display =\n",
              "          google.colab.kernel.accessAllowed ? 'block' : 'none';\n",
              "\n",
              "        async function convertToInteractive(key) {\n",
              "          const element = document.querySelector('#df-27a69868-1d17-4908-bfee-67c181ff000c');\n",
              "          const dataTable =\n",
              "            await google.colab.kernel.invokeFunction('convertToInteractive',\n",
              "                                                     [key], {});\n",
              "          if (!dataTable) return;\n",
              "\n",
              "          const docLinkHtml = 'Like what you see? Visit the ' +\n",
              "            '<a target=\"_blank\" href=https://colab.research.google.com/notebooks/data_table.ipynb>data table notebook</a>'\n",
              "            + ' to learn more about interactive tables.';\n",
              "          element.innerHTML = '';\n",
              "          dataTable['output_type'] = 'display_data';\n",
              "          await google.colab.output.renderOutput(dataTable, element);\n",
              "          const docLink = document.createElement('div');\n",
              "          docLink.innerHTML = docLinkHtml;\n",
              "          element.appendChild(docLink);\n",
              "        }\n",
              "      </script>\n",
              "    </div>\n",
              "  </div>\n",
              "  "
            ],
            "text/plain": [
              "   Topic  Count\n",
              "1      0     34\n",
              "2     -1     20\n",
              "0      1     19\n",
              "3      2     14"
            ]
          },
          "execution_count": 23,
          "metadata": {},
          "output_type": "execute_result"
        }
      ],
      "source": [
        "topic_model.get_topic_freq().head(20)\n"
      ]
    },
    {
      "cell_type": "code",
      "execution_count": null,
      "metadata": {
        "id": "Z2Tczs5tiShh"
      },
      "outputs": [],
      "source": [
        "## topic model - visualize hierarchies\n",
        "# topic_model.visualize_hierarchy(top_n_topics=40)"
      ]
    },
    {
      "attachments": {},
      "cell_type": "markdown",
      "metadata": {
        "id": "ZBG-HZ8sqqex"
      },
      "source": [
        "# Predict"
      ]
    },
    {
      "cell_type": "code",
      "execution_count": null,
      "metadata": {
        "id": "ZtHZ86KhiTJA"
      },
      "outputs": [],
      "source": [
        "# Simulations a ARTICLE that we tagged it\n",
        "similar_topics, similarity = topic_model.find_topics(articles['16-bit computing'], top_n = 3)"
      ]
    },
    {
      "cell_type": "code",
      "execution_count": null,
      "metadata": {
        "colab": {
          "base_uri": "https://localhost:8080/"
        },
        "id": "PrDqbCn7iXAn",
        "outputId": "2b1e56d0-b21e-44d9-d90f-33486ee5dd28"
      },
      "outputs": [
        {
          "data": {
            "text/plain": [
              "[('computer', 0.04178509404956643),\n",
              " ('bit', 0.03272534195966885),\n",
              " ('system', 0.031325203185991225),\n",
              " ('tl', 0.02751645387225997),\n",
              " ('software', 0.027112049755860103),\n",
              " ('used', 0.027070203193091773),\n",
              " ('data', 0.026746872149390453),\n",
              " ('character', 0.025891391999171693),\n",
              " ('memory', 0.02569398396907614),\n",
              " ('unicode', 0.02529093345572671)]"
            ]
          },
          "execution_count": 86,
          "metadata": {},
          "output_type": "execute_result"
        }
      ],
      "source": [
        "topic_model.get_topic(similar_topics[0])"
      ]
    },
    {
      "cell_type": "code",
      "execution_count": null,
      "metadata": {
        "id": "QftvRTGPrZLa"
      },
      "outputs": [],
      "source": [
        "# Simulations a QUERY that we tagged it\n",
        "QUERY = 'Iran goverments'\n",
        "similar_topics, similarity = topic_model.find_topics(QUERY, top_n = 3)"
      ]
    },
    {
      "cell_type": "code",
      "execution_count": null,
      "metadata": {
        "colab": {
          "base_uri": "https://localhost:8080/"
        },
        "id": "bkyHOUfwrY9M",
        "outputId": "e79902cb-6441-4f21-e194-389265436242"
      },
      "outputs": [
        {
          "data": {
            "text/plain": [
              "[('state', 0.02854877594862139),\n",
              " ('political', 0.023683445760862988),\n",
              " ('government', 0.01980291468975258),\n",
              " ('nazi', 0.018448050998873988),\n",
              " ('nuclear', 0.018360918887995216),\n",
              " ('also', 0.018009337585742316),\n",
              " ('power', 0.017954788964888998),\n",
              " ('freedom', 0.016313923081668416),\n",
              " ('islamic', 0.016240336312859194),\n",
              " ('right', 0.015788986682830266)]"
            ]
          },
          "execution_count": 98,
          "metadata": {},
          "output_type": "execute_result"
        }
      ],
      "source": [
        "topic_model.get_topic(similar_topics[0])"
      ]
    },
    {
      "attachments": {},
      "cell_type": "markdown",
      "metadata": {
        "id": "GG0jDadBswg_"
      },
      "source": [
        "# Find shared words"
      ]
    },
    {
      "cell_type": "code",
      "execution_count": null,
      "metadata": {
        "colab": {
          "base_uri": "https://localhost:8080/"
        },
        "id": "ifnlp7wJsv3_",
        "outputId": "24976923-71e2-4232-fe15-4f8f1a1f7ddd"
      },
      "outputs": [
        {
          "name": "stdout",
          "output_type": "stream",
          "text": [
            "SIMILARITY: 10 /10\n"
          ]
        },
        {
          "data": {
            "text/plain": [
              "(10, 10, 10, 10)"
            ]
          },
          "execution_count": 105,
          "metadata": {},
          "output_type": "execute_result"
        }
      ],
      "source": [
        "l1=[('computer', 0.04178509404956643),\n",
        " ('bit', 0.03272534195966885),\n",
        " ('system', 0.031325203185991225),\n",
        " ('tl', 0.02751645387225997),\n",
        " ('software', 0.027112049755860103),\n",
        " ('used', 0.027070203193091773),\n",
        " ('data', 0.026746872149390453),\n",
        " ('character', 0.025891391999171693),\n",
        " ('memory', 0.02569398396907614),\n",
        " ('unicode', 0.02529093345572671)]\n",
        "l2=[('computer', 0.04178509404956643), # proeccessors generation (Query)\n",
        " ('bit', 0.03272534195966885),\n",
        " ('system', 0.031325203185991225),\n",
        " ('tl', 0.02751645387225997),\n",
        " ('software', 0.027112049755860103),\n",
        " ('used', 0.027070203193091773),\n",
        " ('data', 0.026746872149390453),\n",
        " ('character', 0.025891391999171693),\n",
        " ('memory', 0.02569398396907614),\n",
        " ('unicode', 0.02529093345572671)]\n",
        "\n",
        "print('SIMILARITY:',len(set(l1) & set(l2)),'/10')\n",
        "\n",
        "len(l1), len(l2), len(set(l1)), len(set(l2))\n",
        "# Completetly similar"
      ]
    },
    {
      "cell_type": "code",
      "execution_count": null,
      "metadata": {
        "colab": {
          "base_uri": "https://localhost:8080/"
        },
        "id": "ayWQDMIStcrG",
        "outputId": "b9b232eb-79df-4129-db80-b335c09d0fbd"
      },
      "outputs": [
        {
          "name": "stdout",
          "output_type": "stream",
          "text": [
            "SIMILARITY: 0 /10\n"
          ]
        },
        {
          "data": {
            "text/plain": [
              "(10, 10, 10, 10)"
            ]
          },
          "execution_count": 104,
          "metadata": {},
          "output_type": "execute_result"
        }
      ],
      "source": [
        "l1=[('computer', 0.04178509404956643),\n",
        " ('bit', 0.03272534195966885),\n",
        " ('system', 0.031325203185991225),\n",
        " ('tl', 0.02751645387225997),\n",
        " ('software', 0.027112049755860103),\n",
        " ('used', 0.027070203193091773),\n",
        " ('data', 0.026746872149390453),\n",
        " ('character', 0.025891391999171693),\n",
        " ('memory', 0.02569398396907614),\n",
        " ('unicode', 0.02529093345572671)]\n",
        "l2=[('state', 0.02854877594862139), # Iran goverments (Query)\n",
        " ('political', 0.023683445760862988),\n",
        " ('government', 0.01980291468975258),\n",
        " ('nazi', 0.018448050998873988),\n",
        " ('nuclear', 0.018360918887995216),\n",
        " ('also', 0.018009337585742316),\n",
        " ('power', 0.017954788964888998),\n",
        " ('freedom', 0.016313923081668416),\n",
        " ('islamic', 0.016240336312859194),\n",
        " ('right', 0.015788986682830266)]\n",
        "\n",
        "print('SIMILARITY:',len(set(l1) & set(l2)),'/10')\n",
        "\n",
        "len(l1), len(l2), len(set(l1)), len(set(l2))\n"
      ]
    },
    {
      "cell_type": "code",
      "execution_count": null,
      "metadata": {
        "colab": {
          "base_uri": "https://localhost:8080/"
        },
        "id": "yv_WPQbwijAf",
        "outputId": "d61db87e-c63e-45bc-b750-d034dfd9aa12"
      },
      "outputs": [
        {
          "name": "stdout",
          "output_type": "stream",
          "text": [
            "[('state', 0.02854877594862139), ('political', 0.023683445760862988), ('government', 0.01980291468975258), ('nazi', 0.018448050998873988), ('nuclear', 0.018360918887995216), ('also', 0.018009337585742316), ('power', 0.017954788964888998), ('freedom', 0.016313923081668416), ('islamic', 0.016240336312859194), ('right', 0.015788986682830266)]\n",
            "[('computer', 0.04178509404956643), ('bit', 0.03272534195966885), ('system', 0.031325203185991225), ('tl', 0.02751645387225997), ('software', 0.027112049755860103), ('used', 0.027070203193091773), ('data', 0.026746872149390453), ('character', 0.025891391999171693), ('memory', 0.02569398396907614), ('unicode', 0.02529093345572671)]\n",
            "[('health', 0.0741411017980452), ('disorder', 0.051119543182297195), ('disease', 0.04637560296148824), ('bipolar', 0.04435719168651998), ('public', 0.036738133794732064), ('weight', 0.02866505578828898), ('smoking', 0.026863216592920697), ('surgery', 0.022621358581118297), ('may', 0.02261822536155333), ('loss', 0.0225959492474874)]\n",
            "False\n",
            "False\n",
            "False\n",
            "False\n",
            "False\n",
            "False\n",
            "False\n"
          ]
        }
      ],
      "source": [
        "for i in range(10):\n",
        "    print(topic_model.get_topic(i))"
      ]
    },
    {
      "cell_type": "code",
      "execution_count": null,
      "metadata": {
        "id": "WCjOiHpFiqwG"
      },
      "outputs": [],
      "source": [
        "# topic_model.visualize_heatmap()"
      ]
    },
    {
      "cell_type": "code",
      "execution_count": null,
      "metadata": {
        "id": "BrDNmWlfi4Mv"
      },
      "outputs": [],
      "source": [
        "all_topics = topic_model.get_topics()"
      ]
    },
    {
      "cell_type": "code",
      "execution_count": null,
      "metadata": {
        "id": "4q0wJmS9i7E3"
      },
      "outputs": [],
      "source": [
        "freq.iloc[0]['Representation']\n",
        "freq.iloc[0]['Representative_Docs']"
      ]
    },
    {
      "attachments": {},
      "cell_type": "markdown",
      "metadata": {
        "id": "SCc20cPcuVUz"
      },
      "source": [
        "# Save articles tags"
      ]
    },
    {
      "cell_type": "code",
      "execution_count": null,
      "metadata": {
        "id": "3vN2IUUopMYn"
      },
      "outputs": [],
      "source": [
        "similarity_df = df.copy()"
      ]
    },
    {
      "cell_type": "code",
      "execution_count": null,
      "metadata": {
        "colab": {
          "base_uri": "https://localhost:8080/",
          "height": 250
        },
        "id": "TvFrcQ18u01i",
        "outputId": "560549a8-98bc-4e3c-917a-74660f9afe4b"
      },
      "outputs": [
        {
          "data": {
            "text/html": [
              "\n",
              "  <div id=\"df-63b3320f-011b-4704-88ba-8d144d2a400b\">\n",
              "    <div class=\"colab-df-container\">\n",
              "      <div>\n",
              "<style scoped>\n",
              "    .dataframe tbody tr th:only-of-type {\n",
              "        vertical-align: middle;\n",
              "    }\n",
              "\n",
              "    .dataframe tbody tr th {\n",
              "        vertical-align: top;\n",
              "    }\n",
              "\n",
              "    .dataframe thead th {\n",
              "        text-align: right;\n",
              "    }\n",
              "</style>\n",
              "<table border=\"1\" class=\"dataframe\">\n",
              "  <thead>\n",
              "    <tr style=\"text-align: right;\">\n",
              "      <th></th>\n",
              "      <th>content</th>\n",
              "      <th>title</th>\n",
              "      <th>tags</th>\n",
              "    </tr>\n",
              "  </thead>\n",
              "  <tbody>\n",
              "    <tr>\n",
              "      <th>0</th>\n",
              "      <td>computer architecture bit integer memory addre...</td>\n",
              "      <td>16-bit computing</td>\n",
              "      <td>[(computer, 0.04178509404956643), (bit, 0.0327...</td>\n",
              "    </tr>\n",
              "    <tr>\n",
              "      <th>1</th>\n",
              "      <td>computer network communication http found erro...</td>\n",
              "      <td>HTTP 404</td>\n",
              "      <td>[(computer, 0.04178509404956643), (bit, 0.0327...</td>\n",
              "    </tr>\n",
              "    <tr>\n",
              "      <th>2</th>\n",
              "      <td>computer accessibility also known accessible c...</td>\n",
              "      <td>Computer accessibility</td>\n",
              "      <td>[(computer, 0.04178509404956643), (bit, 0.0327...</td>\n",
              "    </tr>\n",
              "    <tr>\n",
              "      <th>3</th>\n",
              "      <td>ada structured statically typed imperative obj...</td>\n",
              "      <td>Ada (programming language)</td>\n",
              "      <td>[(computer, 0.04178509404956643), (bit, 0.0327...</td>\n",
              "    </tr>\n",
              "    <tr>\n",
              "      <th>4</th>\n",
              "      <td>asp net open source server side web applicatio...</td>\n",
              "      <td>ASP.NET</td>\n",
              "      <td>[(computer, 0.04178509404956643), (bit, 0.0327...</td>\n",
              "    </tr>\n",
              "  </tbody>\n",
              "</table>\n",
              "</div>\n",
              "      <button class=\"colab-df-convert\" onclick=\"convertToInteractive('df-63b3320f-011b-4704-88ba-8d144d2a400b')\"\n",
              "              title=\"Convert this dataframe to an interactive table.\"\n",
              "              style=\"display:none;\">\n",
              "        \n",
              "  <svg xmlns=\"http://www.w3.org/2000/svg\" height=\"24px\"viewBox=\"0 0 24 24\"\n",
              "       width=\"24px\">\n",
              "    <path d=\"M0 0h24v24H0V0z\" fill=\"none\"/>\n",
              "    <path d=\"M18.56 5.44l.94 2.06.94-2.06 2.06-.94-2.06-.94-.94-2.06-.94 2.06-2.06.94zm-11 1L8.5 8.5l.94-2.06 2.06-.94-2.06-.94L8.5 2.5l-.94 2.06-2.06.94zm10 10l.94 2.06.94-2.06 2.06-.94-2.06-.94-.94-2.06-.94 2.06-2.06.94z\"/><path d=\"M17.41 7.96l-1.37-1.37c-.4-.4-.92-.59-1.43-.59-.52 0-1.04.2-1.43.59L10.3 9.45l-7.72 7.72c-.78.78-.78 2.05 0 2.83L4 21.41c.39.39.9.59 1.41.59.51 0 1.02-.2 1.41-.59l7.78-7.78 2.81-2.81c.8-.78.8-2.07 0-2.86zM5.41 20L4 18.59l7.72-7.72 1.47 1.35L5.41 20z\"/>\n",
              "  </svg>\n",
              "      </button>\n",
              "      \n",
              "  <style>\n",
              "    .colab-df-container {\n",
              "      display:flex;\n",
              "      flex-wrap:wrap;\n",
              "      gap: 12px;\n",
              "    }\n",
              "\n",
              "    .colab-df-convert {\n",
              "      background-color: #E8F0FE;\n",
              "      border: none;\n",
              "      border-radius: 50%;\n",
              "      cursor: pointer;\n",
              "      display: none;\n",
              "      fill: #1967D2;\n",
              "      height: 32px;\n",
              "      padding: 0 0 0 0;\n",
              "      width: 32px;\n",
              "    }\n",
              "\n",
              "    .colab-df-convert:hover {\n",
              "      background-color: #E2EBFA;\n",
              "      box-shadow: 0px 1px 2px rgba(60, 64, 67, 0.3), 0px 1px 3px 1px rgba(60, 64, 67, 0.15);\n",
              "      fill: #174EA6;\n",
              "    }\n",
              "\n",
              "    [theme=dark] .colab-df-convert {\n",
              "      background-color: #3B4455;\n",
              "      fill: #D2E3FC;\n",
              "    }\n",
              "\n",
              "    [theme=dark] .colab-df-convert:hover {\n",
              "      background-color: #434B5C;\n",
              "      box-shadow: 0px 1px 3px 1px rgba(0, 0, 0, 0.15);\n",
              "      filter: drop-shadow(0px 1px 2px rgba(0, 0, 0, 0.3));\n",
              "      fill: #FFFFFF;\n",
              "    }\n",
              "  </style>\n",
              "\n",
              "      <script>\n",
              "        const buttonEl =\n",
              "          document.querySelector('#df-63b3320f-011b-4704-88ba-8d144d2a400b button.colab-df-convert');\n",
              "        buttonEl.style.display =\n",
              "          google.colab.kernel.accessAllowed ? 'block' : 'none';\n",
              "\n",
              "        async function convertToInteractive(key) {\n",
              "          const element = document.querySelector('#df-63b3320f-011b-4704-88ba-8d144d2a400b');\n",
              "          const dataTable =\n",
              "            await google.colab.kernel.invokeFunction('convertToInteractive',\n",
              "                                                     [key], {});\n",
              "          if (!dataTable) return;\n",
              "\n",
              "          const docLinkHtml = 'Like what you see? Visit the ' +\n",
              "            '<a target=\"_blank\" href=https://colab.research.google.com/notebooks/data_table.ipynb>data table notebook</a>'\n",
              "            + ' to learn more about interactive tables.';\n",
              "          element.innerHTML = '';\n",
              "          dataTable['output_type'] = 'display_data';\n",
              "          await google.colab.output.renderOutput(dataTable, element);\n",
              "          const docLink = document.createElement('div');\n",
              "          docLink.innerHTML = docLinkHtml;\n",
              "          element.appendChild(docLink);\n",
              "        }\n",
              "      </script>\n",
              "    </div>\n",
              "  </div>\n",
              "  "
            ],
            "text/plain": [
              "                                             content  \\\n",
              "0  computer architecture bit integer memory addre...   \n",
              "1  computer network communication http found erro...   \n",
              "2  computer accessibility also known accessible c...   \n",
              "3  ada structured statically typed imperative obj...   \n",
              "4  asp net open source server side web applicatio...   \n",
              "\n",
              "                        title  \\\n",
              "0            16-bit computing   \n",
              "1                    HTTP 404   \n",
              "2      Computer accessibility   \n",
              "3  Ada (programming language)   \n",
              "4                     ASP.NET   \n",
              "\n",
              "                                                tags  \n",
              "0  [(computer, 0.04178509404956643), (bit, 0.0327...  \n",
              "1  [(computer, 0.04178509404956643), (bit, 0.0327...  \n",
              "2  [(computer, 0.04178509404956643), (bit, 0.0327...  \n",
              "3  [(computer, 0.04178509404956643), (bit, 0.0327...  \n",
              "4  [(computer, 0.04178509404956643), (bit, 0.0327...  "
            ]
          },
          "execution_count": 144,
          "metadata": {},
          "output_type": "execute_result"
        }
      ],
      "source": [
        "# Insert similarity of each article to df\n",
        "appended_list_tags=[]\n",
        "for _, row in similarity_df.iterrows():\n",
        "  similar_topics, similarity = topic_model.find_topics(row['content'], top_n = 3)\n",
        "  appended_list_tags.append(topic_model.get_topic(similar_topics[0]))\n",
        "\n",
        "similarity_df['tags'] = appended_list_tags\n",
        "\n",
        "del appended_list_tags\n",
        "\n",
        "similarity_df.head()"
      ]
    },
    {
      "cell_type": "code",
      "execution_count": null,
      "metadata": {
        "id": "wCw9kXvazn3X"
      },
      "outputs": [],
      "source": [
        "similarity_df.to_csv(f'{directory}/articles_with_similarity.csv', index=False)"
      ]
    },
    {
      "cell_type": "code",
      "execution_count": null,
      "metadata": {
        "id": "YKPrs44yxX0m"
      },
      "outputs": [],
      "source": [
        "QUERY = 'Iran goverment'\n",
        "similar_topics, similarity = topic_model.find_topics(QUERY, top_n = 3)\n",
        "tags_of_query = topic_model.get_topic(similar_topics[0])"
      ]
    },
    {
      "attachments": {},
      "cell_type": "markdown",
      "metadata": {
        "id": "93EgEWk_1G50"
      },
      "source": [
        "Search into articles for most similar like query"
      ]
    },
    {
      "cell_type": "code",
      "execution_count": null,
      "metadata": {
        "id": "pYpfmD2Z0cEH"
      },
      "outputs": [],
      "source": [
        "# print(set(tags_of_query),'\\n\\n')\n",
        "results=[]\n",
        "for _, row in similarity_df.iterrows():\n",
        "  row['tags']\n",
        "  # print('SIMILARITY:',len(set(tags_of_query) & set(row['tags'] )),'/10')\n",
        "  # print(set(row['tags'] ))\n",
        "\n",
        "  if len(set(tags_of_query) & set(row['tags'] )) > 6:\n",
        "    results.append({row['title']:row['content']})"
      ]
    },
    {
      "attachments": {},
      "cell_type": "markdown",
      "metadata": {
        "id": "sOlKRjaA4SP5"
      },
      "source": [
        "# Print search result"
      ]
    },
    {
      "cell_type": "code",
      "execution_count": null,
      "metadata": {
        "colab": {
          "base_uri": "https://localhost:8080/"
        },
        "id": "wIHXU7Wd1e1k",
        "outputId": "137f01b3-d49a-4616-fb2e-ff91959a6fe5"
      },
      "outputs": [
        {
          "name": "stdout",
          "output_type": "stream",
          "text": [
            "A Scientific Support for Darwinism\n",
            "Acclamation\n",
            "Activism\n",
            "Anti-capitalism\n",
            "Anti-nuclear movement in the United States\n",
            "Asian values\n",
            "Center for American Politics and Citizenship\n",
            "Consistent life ethic\n",
            "Culture\n",
            "Contempt of Parliament\n",
            "Freedom of speech\n",
            "Freedom of the press\n",
            "Internet censorship\n",
            "Island country\n",
            "Islamism\n",
            "Islamic state\n",
            "Judiciary\n",
            "May Conspiracy\n",
            "Nazism\n",
            "Neo-Gramscianism\n",
            "Political science\n",
            "Political statement\n",
            "Tax Justice Network\n",
            "Sovereign state\n",
            "Jerk (cooking)\n",
            "Veganism\n",
            "Bayaty-Shiraz (mode)\n",
            "Opera in English\n",
            "Duet\n",
            "Euouae\n",
            "Music tourism\n",
            "Battle\n",
            "Iranian Revolution\n",
            "Achaemenid Empire\n"
          ]
        }
      ],
      "source": [
        "for r in results:\n",
        "  print(list(r.keys())[0])\n",
        "\n",
        "# Print the name of finded articles:"
      ]
    },
    {
      "attachments": {},
      "cell_type": "markdown",
      "metadata": {
        "id": "uF65Pheg5FRH"
      },
      "source": [
        "# Save topic_model for later use in web or somewhere"
      ]
    },
    {
      "cell_type": "code",
      "execution_count": null,
      "metadata": {
        "id": "rugPJfD92fE5"
      },
      "outputs": [],
      "source": [
        "# import pickle\n",
        "# from sentence_transformers import SentenceTransformer\n",
        "# from bertopic import BERTopic\n",
        "\n",
        "\n",
        "# with open(f'{directory}/topic_model.pkl', 'wb') as f:\n",
        "#     pickle.dump(topic_model, f)\n",
        "\n",
        "# # Save similarity_df for ease of use later\n",
        "# with open(f'{directory}/similarity_df.pkl', 'wb') as f:\n",
        "#     pickle.dump(similarity_df, f)"
      ]
    },
    {
      "cell_type": "code",
      "execution_count": null,
      "metadata": {
        "id": "0tSHsDBZ5NO_"
      },
      "outputs": [],
      "source": [
        "import torch\n",
        "\n",
        "# Save the BERTopic instance using torch.save\n",
        "torch.save(topic_model, '/content/drive/MyDrive/scrape/topic_model_cpu.pth')"
      ]
    }
  ],
  "metadata": {
    "accelerator": "GPU",
    "colab": {
      "gpuType": "T4",
      "provenance": []
    },
    "kernelspec": {
      "display_name": "Python 3",
      "name": "python3"
    },
    "language_info": {
      "name": "python"
    },
    "widgets": {
      "application/vnd.jupyter.widget-state+json": {
        "026a9e51e7b44d9e94f264112b30bb91": {
          "model_module": "@jupyter-widgets/base",
          "model_module_version": "1.2.0",
          "model_name": "LayoutModel",
          "state": {
            "_model_module": "@jupyter-widgets/base",
            "_model_module_version": "1.2.0",
            "_model_name": "LayoutModel",
            "_view_count": null,
            "_view_module": "@jupyter-widgets/base",
            "_view_module_version": "1.2.0",
            "_view_name": "LayoutView",
            "align_content": null,
            "align_items": null,
            "align_self": null,
            "border": null,
            "bottom": null,
            "display": null,
            "flex": null,
            "flex_flow": null,
            "grid_area": null,
            "grid_auto_columns": null,
            "grid_auto_flow": null,
            "grid_auto_rows": null,
            "grid_column": null,
            "grid_gap": null,
            "grid_row": null,
            "grid_template_areas": null,
            "grid_template_columns": null,
            "grid_template_rows": null,
            "height": null,
            "justify_content": null,
            "justify_items": null,
            "left": null,
            "margin": null,
            "max_height": null,
            "max_width": null,
            "min_height": null,
            "min_width": null,
            "object_fit": null,
            "object_position": null,
            "order": null,
            "overflow": null,
            "overflow_x": null,
            "overflow_y": null,
            "padding": null,
            "right": null,
            "top": null,
            "visibility": null,
            "width": null
          }
        },
        "0e3d21f91aa54380b04f3435e91a21ad": {
          "model_module": "@jupyter-widgets/controls",
          "model_module_version": "1.5.0",
          "model_name": "FloatProgressModel",
          "state": {
            "_dom_classes": [],
            "_model_module": "@jupyter-widgets/controls",
            "_model_module_version": "1.5.0",
            "_model_name": "FloatProgressModel",
            "_view_count": null,
            "_view_module": "@jupyter-widgets/controls",
            "_view_module_version": "1.5.0",
            "_view_name": "ProgressView",
            "bar_style": "success",
            "description": "",
            "description_tooltip": null,
            "layout": "IPY_MODEL_e6bc03b7660b4ad8b6e0e9551732ed56",
            "max": 3,
            "min": 0,
            "orientation": "horizontal",
            "style": "IPY_MODEL_e9fbf6ef75954e60956102eda39dec6c",
            "value": 3
          }
        },
        "1f402a60926d46fd821dd245e0211822": {
          "model_module": "@jupyter-widgets/base",
          "model_module_version": "1.2.0",
          "model_name": "LayoutModel",
          "state": {
            "_model_module": "@jupyter-widgets/base",
            "_model_module_version": "1.2.0",
            "_model_name": "LayoutModel",
            "_view_count": null,
            "_view_module": "@jupyter-widgets/base",
            "_view_module_version": "1.2.0",
            "_view_name": "LayoutView",
            "align_content": null,
            "align_items": null,
            "align_self": null,
            "border": null,
            "bottom": null,
            "display": null,
            "flex": null,
            "flex_flow": null,
            "grid_area": null,
            "grid_auto_columns": null,
            "grid_auto_flow": null,
            "grid_auto_rows": null,
            "grid_column": null,
            "grid_gap": null,
            "grid_row": null,
            "grid_template_areas": null,
            "grid_template_columns": null,
            "grid_template_rows": null,
            "height": null,
            "justify_content": null,
            "justify_items": null,
            "left": null,
            "margin": null,
            "max_height": null,
            "max_width": null,
            "min_height": null,
            "min_width": null,
            "object_fit": null,
            "object_position": null,
            "order": null,
            "overflow": null,
            "overflow_x": null,
            "overflow_y": null,
            "padding": null,
            "right": null,
            "top": null,
            "visibility": null,
            "width": null
          }
        },
        "203f878dba5f4a3facc38ec88765e2f7": {
          "model_module": "@jupyter-widgets/controls",
          "model_module_version": "1.5.0",
          "model_name": "HTMLModel",
          "state": {
            "_dom_classes": [],
            "_model_module": "@jupyter-widgets/controls",
            "_model_module_version": "1.5.0",
            "_model_name": "HTMLModel",
            "_view_count": null,
            "_view_module": "@jupyter-widgets/controls",
            "_view_module_version": "1.5.0",
            "_view_name": "HTMLView",
            "description": "",
            "description_tooltip": null,
            "layout": "IPY_MODEL_8a82ccf11d8b4060b7cfb89a13b26e09",
            "placeholder": "​",
            "style": "IPY_MODEL_8890d1144e6345f982476c5dcf9e5e8c",
            "value": "Batches: 100%"
          }
        },
        "3e29aac0c3724c63a11391437ab75477": {
          "model_module": "@jupyter-widgets/controls",
          "model_module_version": "1.5.0",
          "model_name": "HBoxModel",
          "state": {
            "_dom_classes": [],
            "_model_module": "@jupyter-widgets/controls",
            "_model_module_version": "1.5.0",
            "_model_name": "HBoxModel",
            "_view_count": null,
            "_view_module": "@jupyter-widgets/controls",
            "_view_module_version": "1.5.0",
            "_view_name": "HBoxView",
            "box_style": "",
            "children": [
              "IPY_MODEL_203f878dba5f4a3facc38ec88765e2f7",
              "IPY_MODEL_0e3d21f91aa54380b04f3435e91a21ad",
              "IPY_MODEL_b59dd6be2fc84517bfb1a1f35b7bccf8"
            ],
            "layout": "IPY_MODEL_026a9e51e7b44d9e94f264112b30bb91"
          }
        },
        "8890d1144e6345f982476c5dcf9e5e8c": {
          "model_module": "@jupyter-widgets/controls",
          "model_module_version": "1.5.0",
          "model_name": "DescriptionStyleModel",
          "state": {
            "_model_module": "@jupyter-widgets/controls",
            "_model_module_version": "1.5.0",
            "_model_name": "DescriptionStyleModel",
            "_view_count": null,
            "_view_module": "@jupyter-widgets/base",
            "_view_module_version": "1.2.0",
            "_view_name": "StyleView",
            "description_width": ""
          }
        },
        "8a82ccf11d8b4060b7cfb89a13b26e09": {
          "model_module": "@jupyter-widgets/base",
          "model_module_version": "1.2.0",
          "model_name": "LayoutModel",
          "state": {
            "_model_module": "@jupyter-widgets/base",
            "_model_module_version": "1.2.0",
            "_model_name": "LayoutModel",
            "_view_count": null,
            "_view_module": "@jupyter-widgets/base",
            "_view_module_version": "1.2.0",
            "_view_name": "LayoutView",
            "align_content": null,
            "align_items": null,
            "align_self": null,
            "border": null,
            "bottom": null,
            "display": null,
            "flex": null,
            "flex_flow": null,
            "grid_area": null,
            "grid_auto_columns": null,
            "grid_auto_flow": null,
            "grid_auto_rows": null,
            "grid_column": null,
            "grid_gap": null,
            "grid_row": null,
            "grid_template_areas": null,
            "grid_template_columns": null,
            "grid_template_rows": null,
            "height": null,
            "justify_content": null,
            "justify_items": null,
            "left": null,
            "margin": null,
            "max_height": null,
            "max_width": null,
            "min_height": null,
            "min_width": null,
            "object_fit": null,
            "object_position": null,
            "order": null,
            "overflow": null,
            "overflow_x": null,
            "overflow_y": null,
            "padding": null,
            "right": null,
            "top": null,
            "visibility": null,
            "width": null
          }
        },
        "b59dd6be2fc84517bfb1a1f35b7bccf8": {
          "model_module": "@jupyter-widgets/controls",
          "model_module_version": "1.5.0",
          "model_name": "HTMLModel",
          "state": {
            "_dom_classes": [],
            "_model_module": "@jupyter-widgets/controls",
            "_model_module_version": "1.5.0",
            "_model_name": "HTMLModel",
            "_view_count": null,
            "_view_module": "@jupyter-widgets/controls",
            "_view_module_version": "1.5.0",
            "_view_name": "HTMLView",
            "description": "",
            "description_tooltip": null,
            "layout": "IPY_MODEL_1f402a60926d46fd821dd245e0211822",
            "placeholder": "​",
            "style": "IPY_MODEL_ecb160d92ea54394b1bd50ae45aceff0",
            "value": " 3/3 [00:04&lt;00:00,  1.12s/it]"
          }
        },
        "e6bc03b7660b4ad8b6e0e9551732ed56": {
          "model_module": "@jupyter-widgets/base",
          "model_module_version": "1.2.0",
          "model_name": "LayoutModel",
          "state": {
            "_model_module": "@jupyter-widgets/base",
            "_model_module_version": "1.2.0",
            "_model_name": "LayoutModel",
            "_view_count": null,
            "_view_module": "@jupyter-widgets/base",
            "_view_module_version": "1.2.0",
            "_view_name": "LayoutView",
            "align_content": null,
            "align_items": null,
            "align_self": null,
            "border": null,
            "bottom": null,
            "display": null,
            "flex": null,
            "flex_flow": null,
            "grid_area": null,
            "grid_auto_columns": null,
            "grid_auto_flow": null,
            "grid_auto_rows": null,
            "grid_column": null,
            "grid_gap": null,
            "grid_row": null,
            "grid_template_areas": null,
            "grid_template_columns": null,
            "grid_template_rows": null,
            "height": null,
            "justify_content": null,
            "justify_items": null,
            "left": null,
            "margin": null,
            "max_height": null,
            "max_width": null,
            "min_height": null,
            "min_width": null,
            "object_fit": null,
            "object_position": null,
            "order": null,
            "overflow": null,
            "overflow_x": null,
            "overflow_y": null,
            "padding": null,
            "right": null,
            "top": null,
            "visibility": null,
            "width": null
          }
        },
        "e9fbf6ef75954e60956102eda39dec6c": {
          "model_module": "@jupyter-widgets/controls",
          "model_module_version": "1.5.0",
          "model_name": "ProgressStyleModel",
          "state": {
            "_model_module": "@jupyter-widgets/controls",
            "_model_module_version": "1.5.0",
            "_model_name": "ProgressStyleModel",
            "_view_count": null,
            "_view_module": "@jupyter-widgets/base",
            "_view_module_version": "1.2.0",
            "_view_name": "StyleView",
            "bar_color": null,
            "description_width": ""
          }
        },
        "ecb160d92ea54394b1bd50ae45aceff0": {
          "model_module": "@jupyter-widgets/controls",
          "model_module_version": "1.5.0",
          "model_name": "DescriptionStyleModel",
          "state": {
            "_model_module": "@jupyter-widgets/controls",
            "_model_module_version": "1.5.0",
            "_model_name": "DescriptionStyleModel",
            "_view_count": null,
            "_view_module": "@jupyter-widgets/base",
            "_view_module_version": "1.2.0",
            "_view_name": "StyleView",
            "description_width": ""
          }
        }
      }
    }
  },
  "nbformat": 4,
  "nbformat_minor": 0
}
